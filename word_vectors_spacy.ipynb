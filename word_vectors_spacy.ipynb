{
 "cells": [
  {
   "cell_type": "code",
   "execution_count": 1,
   "id": "f0602a9d-da55-4040-804f-e6b55ce16884",
   "metadata": {},
   "outputs": [],
   "source": [
    "import spacy"
   ]
  },
  {
   "cell_type": "code",
   "execution_count": 2,
   "id": "b168f661-b441-447d-b1c3-3d22b32ddb9a",
   "metadata": {},
   "outputs": [],
   "source": [
    "nlp = spacy.load(\"en_core_web_lg\")"
   ]
  },
  {
   "cell_type": "code",
   "execution_count": 4,
   "id": "4e53db8c-0e68-479e-8522-d854e7069fff",
   "metadata": {},
   "outputs": [
    {
     "data": {
      "text/plain": [
       "array([  1.2746  ,   0.46242 ,  -1.1829  ,  -5.2661  ,  -2.7128  ,\n",
       "         1.8521  ,  -0.94273 ,   2.1865  ,   6.503   ,   0.6704  ,\n",
       "         1.5361  ,   2.5992  ,  -0.36233 ,   4.3965  ,  -6.5644  ,\n",
       "         1.6141  ,  -1.2897  ,   2.1184  ,  -0.63654 ,  -3.4572  ,\n",
       "        -4.3771  ,   4.2074  ,  -3.6411  ,  -0.97214 ,   1.3253  ,\n",
       "        -2.3125  ,  -3.6531  ,  -2.8398  ,   2.7913  ,  -1.53    ,\n",
       "        -2.9984  ,  -2.6357  ,   0.50615 ,  -2.6925  ,   4.3401  ,\n",
       "        -5.6017  ,   0.045691,   4.3832  ,  -0.19535 ,  -1.0751  ,\n",
       "         0.32172 ,   2.4395  ,   4.6638  ,   3.4471  ,  -3.3847  ,\n",
       "        -1.8238  ,   0.70212 ,   0.58557 ,   5.0032  ,  -3.1072  ,\n",
       "         1.2364  ,   7.4595  ,   0.057368,   1.0111  ,  -1.0827  ,\n",
       "         0.69113 ,   2.8009  ,  -3.4383  ,  -1.0599  ,  -2.2627  ,\n",
       "        -5.149   ,  -5.0636  ,   3.1405  ,   1.0793  ,  -0.72892 ,\n",
       "        -3.9939  ,  -0.69551 ,  -0.55767 ,   3.2555  ,  -2.9449  ,\n",
       "         4.7114  ,   1.6388  ,   1.3828  ,   1.4255  ,  -3.2334  ,\n",
       "        -2.274   ,  -1.8136  ,   2.2966  ,   2.5462  ,   1.0722  ,\n",
       "        -0.73447 ,   1.2148  ,  -0.9196  ,  -0.065012,   2.088   ,\n",
       "         0.57002 ,   3.5746  ,   1.7192  ,  -8.335   ,   0.71079 ,\n",
       "         0.91314 ,  -5.0107  ,   1.899   ,  -4.4658  ,   4.7993  ,\n",
       "        -0.39899 ,  -2.673   ,  -2.9354  ,   4.304   ,   1.4336  ,\n",
       "         3.7121  ,   0.34882 ,   4.6512  ,  -4.5731  ,  -4.5665  ,\n",
       "         1.5988  ,  -0.50383 ,   0.95857 ,   0.68728 ,  -0.39976 ,\n",
       "        -3.1922  ,   4.4363  ,  -0.69479 ,  -1.9528  ,   4.9376  ,\n",
       "         2.7259  ,   2.2485  ,   5.5734  ,   2.5842  ,   4.7836  ,\n",
       "        -1.0274  ,   2.2703  ,  -2.0696  ,  -1.0642  ,  -4.932   ,\n",
       "        -2.274   ,   4.1409  ,   0.73313 ,   2.1889  ,  -0.098888,\n",
       "         1.6472  ,  -2.3985  ,   2.5911  ,   3.6026  ,   1.885   ,\n",
       "         5.7822  ,  -1.4481  ,   1.8914  , -10.044   ,  -5.7452  ,\n",
       "        -4.3224  ,  -3.854   ,   2.3084  ,  -0.84018 ,  -0.40526 ,\n",
       "         4.7741  ,  -2.3271  ,   7.064   ,   0.95753 ,  -2.356   ,\n",
       "         0.83953 ,   0.40004 ,   0.33743 ,   0.8376  ,   3.9285  ,\n",
       "         0.05955 ,   2.4422  ,   4.3492  ,   3.9861  ,   2.1043  ,\n",
       "        -1.0197  ,  -0.61752 ,  -0.42999 ,  -0.1014  ,  -5.9571  ,\n",
       "        -0.53818 ,  -1.7797  ,   1.7446  ,   2.3934  ,  -0.50263 ,\n",
       "        -1.6222  ,  -0.37372 ,  -6.8938  ,   0.55018 ,  -2.267   ,\n",
       "         0.64912 ,   3.1525  ,  -2.2541  ,  -4.0384  ,   3.206   ,\n",
       "         0.14962 ,  -2.6662  ,   0.18167 ,   5.0028  ,   2.1521  ,\n",
       "         0.92419 ,   5.4163  ,  -2.2408  ,   1.6585  ,  -5.1625  ,\n",
       "         5.029   ,   0.1026  ,  -0.44542 ,   2.0557  ,   3.7778  ,\n",
       "         3.8679  ,  -2.7135  ,   5.3242  ,  -3.2916  ,   5.6421  ,\n",
       "         5.0466  ,   1.6072  ,  -1.3206  ,   4.2044  ,  -0.33793 ,\n",
       "        -3.1139  ,   2.8841  ,  -3.1565  ,  -2.9832  ,  -0.23235 ,\n",
       "         2.3259  ,   3.5477  ,  -2.1299  ,  -1.8344  ,   2.7271  ,\n",
       "         1.5568  ,   5.6865  ,   0.9412  ,  -2.6412  ,  -5.3254  ,\n",
       "         1.3494  ,  -0.47159 ,   2.4979  ,  -1.5568  ,  -1.6911  ,\n",
       "        -2.1842  ,   6.0319  ,   0.022573,   2.3824  ,  -1.1002  ,\n",
       "         0.90216 ,  -1.9113  ,   1.5527  ,   5.7413  ,  -3.1956  ,\n",
       "         0.68655 ,  -1.6068  ,   1.7404  ,  -3.2142  ,   6.4783  ,\n",
       "         1.7548  ,  -2.9795  ,   0.97631 ,  -0.018354,  -0.6379  ,\n",
       "         0.80559 ,   3.1923  ,   3.3335  ,   4.3068  ,  -1.0819  ,\n",
       "        -1.3839  ,  -4.7626  ,  -4.6637  ,  -1.2201  ,  -3.2741  ,\n",
       "         1.5204  ,   0.78119 ,   8.7339  ,   1.6009  ,  -0.79332 ,\n",
       "         5.8416  ,  -1.485   ,   1.5978  ,   2.9746  ,  -0.30759 ,\n",
       "        -1.8023  ,  -4.8344  ,   1.2817  ,  -2.5469  ,   2.6517  ,\n",
       "         1.4881  ,   2.1952  ,  -0.12652 ,   1.2223  ,   0.44763 ,\n",
       "        -3.1445  ,  -2.2051  ,  -4.1785  ,  -3.6539  ,   5.1929  ,\n",
       "         0.78457 ,  -1.2312  ,   5.5624  ,  -1.8462  ,   6.1262  ,\n",
       "        -1.6653  ,  -2.7557  ,  -0.066465,  -3.6362  ,   5.2005  ,\n",
       "        -1.2865  ,   2.8855  ,   6.1219  ,   1.7824  ,   1.4264  ,\n",
       "        10.628   ,  -0.36028 ,   1.9268  ,  -7.835   ,   0.57865 ],\n",
       "      dtype=float32)"
      ]
     },
     "execution_count": 4,
     "metadata": {},
     "output_type": "execute_result"
    }
   ],
   "source": [
    "nlp(u\"lion\").vector"
   ]
  },
  {
   "cell_type": "code",
   "execution_count": 6,
   "id": "59308b6b-7a95-4e8a-a52d-74a56221d10e",
   "metadata": {},
   "outputs": [
    {
     "data": {
      "text/plain": [
       "array([-1.615     ,  0.73115796, -0.43866196,  0.017288  ,  1.7033421 ,\n",
       "       -2.4918282 ,  0.13813403,  3.185108  ,  1.431782  ,  0.16901802,\n",
       "        2.7527    ,  0.64076406, -2.342192  ,  0.41953403,  0.797184  ,\n",
       "       -1.1299    ,  1.4179399 ,  1.630098  ,  2.56572   , -1.1786883 ,\n",
       "       -1.8828003 ,  0.10497598,  1.5746659 , -2.4389    ,  1.6264408 ,\n",
       "       -0.195288  , -3.663484  , -2.367334  ,  1.120072  ,  1.517998  ,\n",
       "       -1.5409119 , -0.74236   , -1.70981   ,  0.21122456, -2.4972022 ,\n",
       "       -2.9451559 ,  0.741366  ,  0.69130594,  2.56254   , -2.1797023 ,\n",
       "        1.455228  ,  0.19872916,  0.96076   , -0.1895    , -0.50636196,\n",
       "       -0.3994352 ,  1.72168   , -0.43335405, -2.79734   ,  0.04104001,\n",
       "        0.870872  ,  3.07908   , -0.85011005,  0.15068403, -0.992664  ,\n",
       "       -0.5621961 , -0.08378398,  1.3055401 ,  2.0414014 ,  0.24415842,\n",
       "        0.33115202, -2.2055602 ,  0.27012798,  1.9971001 , -0.91020405,\n",
       "       -1.43928   , -3.3562179 , -2.326374  ,  1.410608  ,  0.12847403,\n",
       "        0.52536   ,  0.494448  ,  0.47294015, -0.5851339 , -0.22306204,\n",
       "       -0.48378196,  0.15025802,  0.48946   ,  0.12913978, -0.73069644,\n",
       "       -2.379094  , -2.0692801 , -1.0096788 ,  1.25272   ,  1.7908599 ,\n",
       "       -0.9036261 ,  2.79906   , -0.04914599, -2.5143478 ,  0.61309   ,\n",
       "       -0.6750078 , -0.32888407,  2.54184   , -0.17071861,  0.26411504,\n",
       "       -0.08619805,  2.3224058 ,  0.89006007,  2.165062  ,  0.25915796,\n",
       "        0.8285859 , -1.261076  ,  2.086974  ,  2.1299443 , -0.21456781,\n",
       "        0.5569401 , -1.60378   ,  1.9442778 , -0.913892  , -0.95242196,\n",
       "       -0.7128006 ,  0.98087406, -0.5353999 ,  1.931312  ,  0.894812  ,\n",
       "       -1.6521759 ,  0.886004  , -0.6169411 ,  1.6394199 , -0.11687199,\n",
       "       -0.30550203, -0.190044  , -0.70105994,  2.47268   , -1.375986  ,\n",
       "       -0.648144  ,  0.97559243, -0.231462  ,  4.2825003 ,  0.31813997,\n",
       "       -2.8985977 , -1.7611881 ,  1.7779    , -0.580056  ,  0.39031202,\n",
       "        0.85677797, -0.60733604, -3.11234   ,  0.97764003, -0.15887599,\n",
       "       -3.6071002 ,  0.13601403, -1.73926   , -0.18580799, -0.70062   ,\n",
       "        0.685252  , -0.43827993,  0.99436396,  1.3498939 ,  0.65000397,\n",
       "        0.7475419 ,  2.8786798 ,  0.20917603, -0.77544403, -0.52630484,\n",
       "        1.10618   ,  2.88104   , -1.4148799 ,  1.196578  ,  1.7139801 ,\n",
       "        1.236796  , -1.0417379 ,  1.1953919 , -2.6903958 , -3.408744  ,\n",
       "       -0.42112   , -1.429724  ,  0.6638    , -0.313608  ,  0.878424  ,\n",
       "       -0.41962606,  3.11922   ,  1.7436501 ,  0.22487998, -1.51121   ,\n",
       "       -0.20153204,  0.22349992, -2.05798   , -1.58918   , -0.7827472 ,\n",
       "       -1.330986  ,  0.09964222,  0.06207442,  0.9869    , -0.30682   ,\n",
       "       -1.50693   , -1.2281196 , -2.191202  ,  0.47935557, -2.3384001 ,\n",
       "        1.20602   ,  1.31761   , -0.8693681 , -0.65864   ,  1.2964699 ,\n",
       "       -0.38857   , -1.44396   , -0.16076404, -1.309934  , -0.21346001,\n",
       "        0.34005594, -0.535046  , -1.1445577 , -0.7100479 ,  0.93315995,\n",
       "        1.0069644 , -3.7653117 ,  0.14853014,  0.191566  ,  0.23523481,\n",
       "        0.435994  ,  1.7084318 , -1.03388   , -0.2700088 ,  1.4422156 ,\n",
       "        0.40605992,  2.61922   ,  0.139244  , -2.405738  ,  0.10005765,\n",
       "       -1.648928  ,  0.67755586, -1.522344  ,  1.3883001 , -1.922932  ,\n",
       "        0.67168695,  0.47529   ,  1.632602  ,  3.0956483 ,  0.7767579 ,\n",
       "        0.802909  , -3.05359   ,  1.635946  ,  0.578938  , -2.0028203 ,\n",
       "        1.5184625 , -1.128546  ,  1.2410339 , -0.45437998,  3.326482  ,\n",
       "        1.8903358 , -2.4961722 ,  1.77654   , -0.15610322, -0.94260806,\n",
       "        1.4371201 , -0.50928175, -0.59553605, -1.221542  , -0.415412  ,\n",
       "       -0.624964  , -1.675564  , -2.5494435 , -1.323242  , -0.666676  ,\n",
       "       -1.729809  ,  1.1727359 ,  4.390082  , -0.28563803, -1.214412  ,\n",
       "        1.775902  , -0.414936  ,  1.1300812 ,  0.77161705, -1.810062  ,\n",
       "       -1.393386  , -2.9972858 , -0.30180797, -2.399366  ,  0.261624  ,\n",
       "        0.6725    , -0.27217802,  0.69558007, -1.088974  , -0.264166  ,\n",
       "       -2.4113898 ,  0.23572204, -0.84566003, -0.16156402,  1.9245478 ,\n",
       "       -0.08114004, -1.1815579 ,  0.18797809, -0.64504004,  1.6769199 ,\n",
       "       -1.097682  ,  0.07828407, -2.18926   ,  1.10807   ,  0.80761206,\n",
       "       -1.1212146 ,  0.84139407,  3.769678  ,  1.2326021 , -0.30580598,\n",
       "        3.210394  ,  0.63234997,  0.676008  , -2.833096  , -1.0153    ],\n",
       "      dtype=float32)"
      ]
     },
     "execution_count": 6,
     "metadata": {},
     "output_type": "execute_result"
    }
   ],
   "source": [
    "nlp(u\"The quick brown fox jumped\").vector"
   ]
  },
  {
   "cell_type": "code",
   "execution_count": 7,
   "id": "ded90b65-3cba-458e-9f95-f56359cbc46d",
   "metadata": {},
   "outputs": [
    {
     "data": {
      "text/plain": [
       "(300,)"
      ]
     },
     "execution_count": 7,
     "metadata": {},
     "output_type": "execute_result"
    }
   ],
   "source": [
    "nlp(u\"The quick brown fox jumped\").vector.shape"
   ]
  },
  {
   "cell_type": "code",
   "execution_count": 8,
   "id": "9f5de384-7b65-4341-97bd-96615f428473",
   "metadata": {},
   "outputs": [
    {
     "data": {
      "text/plain": [
       "(300,)"
      ]
     },
     "execution_count": 8,
     "metadata": {},
     "output_type": "execute_result"
    }
   ],
   "source": [
    "nlp(u\"fox\").vector.shape"
   ]
  },
  {
   "cell_type": "code",
   "execution_count": 9,
   "id": "b471a1df-1f01-42a4-b52c-e508d5e9b2d2",
   "metadata": {},
   "outputs": [],
   "source": [
    "tokens = nlp(u\"lion cat pet\")"
   ]
  },
  {
   "cell_type": "code",
   "execution_count": 10,
   "id": "d1bdaf2e-f064-4f17-9541-54c80bcc3399",
   "metadata": {},
   "outputs": [
    {
     "name": "stdout",
     "output_type": "stream",
     "text": [
      "lion lion 1.0\n",
      "lion cat 0.3854507803916931\n",
      "lion pet 0.20031584799289703\n",
      "cat lion 0.3854507803916931\n",
      "cat cat 1.0\n",
      "cat pet 0.732966423034668\n",
      "pet lion 0.20031584799289703\n",
      "pet cat 0.732966423034668\n",
      "pet pet 1.0\n"
     ]
    }
   ],
   "source": [
    "for token1 in tokens:\n",
    "    for token2 in tokens:\n",
    "        print(token1.text,token2.text,token1.similarity(token2))"
   ]
  },
  {
   "cell_type": "code",
   "execution_count": 11,
   "id": "40a17f8a-6c8a-41d9-8b8d-97652dd428ce",
   "metadata": {},
   "outputs": [],
   "source": [
    "tokens = nlp(u\"like love hate\")"
   ]
  },
  {
   "cell_type": "code",
   "execution_count": 12,
   "id": "86c3c8e9-6b8e-4ea5-b325-7f138861b29b",
   "metadata": {},
   "outputs": [
    {
     "name": "stdout",
     "output_type": "stream",
     "text": [
      "like like 1.0\n",
      "like love 0.5212638974189758\n",
      "like hate 0.5065141320228577\n",
      "love like 0.5212638974189758\n",
      "love love 1.0\n",
      "love hate 0.5708349943161011\n",
      "hate like 0.5065141320228577\n",
      "hate love 0.5708349943161011\n",
      "hate hate 1.0\n"
     ]
    }
   ],
   "source": [
    "for token1 in tokens:\n",
    "    for token2 in tokens:\n",
    "        print(token1.text,token2.text,token1.similarity(token2))"
   ]
  },
  {
   "cell_type": "code",
   "execution_count": 14,
   "id": "abc38317-1d77-480b-8931-736c39ae0069",
   "metadata": {},
   "outputs": [
    {
     "data": {
      "text/plain": [
       "514157"
      ]
     },
     "execution_count": 14,
     "metadata": {},
     "output_type": "execute_result"
    }
   ],
   "source": [
    "len(nlp.vocab.vectors)"
   ]
  },
  {
   "cell_type": "code",
   "execution_count": 15,
   "id": "d935c051-e0d8-4945-8918-b0b1fb2aef20",
   "metadata": {},
   "outputs": [
    {
     "data": {
      "text/plain": [
       "(514157, 300)"
      ]
     },
     "execution_count": 15,
     "metadata": {},
     "output_type": "execute_result"
    }
   ],
   "source": [
    "nlp.vocab.vectors.shape"
   ]
  },
  {
   "cell_type": "code",
   "execution_count": 16,
   "id": "d628462b-7615-4f92-b31d-8e17d8741bf4",
   "metadata": {},
   "outputs": [],
   "source": [
    "tokens = nlp(u\"dog cat nargle\")"
   ]
  },
  {
   "cell_type": "code",
   "execution_count": 19,
   "id": "74c9fc52-10da-4961-a759-300ce7e082c9",
   "metadata": {},
   "outputs": [
    {
     "name": "stdout",
     "output_type": "stream",
     "text": [
      "dog True 75.254234 False\n",
      "cat True 63.188496 False\n",
      "nargle False 0.0 True\n"
     ]
    }
   ],
   "source": [
    "for token in tokens:\n",
    "    print(token.text, token.has_vector,token.vector_norm,token.is_oov)\n",
    "    #oov out of vocabulary"
   ]
  },
  {
   "cell_type": "code",
   "execution_count": 20,
   "id": "c67db82d-6fc6-41f9-b849-111a04f402c0",
   "metadata": {},
   "outputs": [],
   "source": [
    "from scipy import spatial\n",
    "\n",
    "\n",
    "cosine_similarity = lambda vec1,vec2: 1 - spatial.distance.cosine(vec1,vec2)"
   ]
  },
  {
   "cell_type": "code",
   "execution_count": 22,
   "id": "d47ea4b5-e71a-464e-ba0c-9a3e4bed7ac8",
   "metadata": {},
   "outputs": [],
   "source": [
    "king = nlp.vocab[\"king\"].vector\n",
    "man = nlp.vocab[\"man\"].vector\n",
    "woman = nlp.vocab[\"woman\"].vector\n",
    "queen = nlp.vocab[\"queen\"].vector"
   ]
  },
  {
   "cell_type": "code",
   "execution_count": 23,
   "id": "d04ad77a-1f04-492c-94da-fcef39020a28",
   "metadata": {},
   "outputs": [],
   "source": [
    "# king - man + woman similar to queen, princess (new vector)\n",
    "new_vector = king-man+woman"
   ]
  },
  {
   "cell_type": "code",
   "execution_count": 24,
   "id": "c1090b89-aa61-41de-a5b1-59ed043db191",
   "metadata": {},
   "outputs": [],
   "source": [
    "computed_similarities = []\n",
    "# FOR ALL WORD IN MY VOCAB\n",
    "for word in nlp.vocab:\n",
    "    if word.has_vector:\n",
    "        if word.is_lower:\n",
    "            if word.is_alpha:\n",
    "                similarity = cosine_similarity(new_vector,word.vector)\n",
    "                computed_similarities.append((word,similarity))\n"
   ]
  },
  {
   "cell_type": "code",
   "execution_count": 26,
   "id": "5dd9cb10-021b-479b-9cc3-8fde950bddb4",
   "metadata": {},
   "outputs": [],
   "source": [
    "computed_similarities = sorted(computed_similarities,key = lambda item:-item[1])"
   ]
  },
  {
   "cell_type": "code",
   "execution_count": 27,
   "id": "51be6797-9c3d-4624-9fd3-d771437b9311",
   "metadata": {},
   "outputs": [
    {
     "data": {
      "text/plain": [
       "[(<spacy.lexeme.Lexeme at 0x1da2f0b5600>, 0.8489541411399841),\n",
       " (<spacy.lexeme.Lexeme at 0x1da5aa34200>, 0.6178014278411865),\n",
       " (<spacy.lexeme.Lexeme at 0x1da2ee97d80>, 0.3899005055427551),\n",
       " (<spacy.lexeme.Lexeme at 0x1da2ee960c0>, 0.38483577966690063),\n",
       " (<spacy.lexeme.Lexeme at 0x1da586037c0>, 0.3385923206806183),\n",
       " (<spacy.lexeme.Lexeme at 0x1da5aac8d40>, 0.32445624470710754),\n",
       " (<spacy.lexeme.Lexeme at 0x1da5aaaaa00>, 0.3206636309623718),\n",
       " (<spacy.lexeme.Lexeme at 0x1da5aaa96c0>, 0.30994713306427),\n",
       " (<spacy.lexeme.Lexeme at 0x1da5aaab840>, 0.30542072653770447),\n",
       " (<spacy.lexeme.Lexeme at 0x1da2ee978c0>, 0.29837310314178467),\n",
       " (<spacy.lexeme.Lexeme at 0x1da5abe4c00>, 0.29441288113594055),\n",
       " (<spacy.lexeme.Lexeme at 0x1da5aa12e80>, 0.2928425371646881),\n",
       " (<spacy.lexeme.Lexeme at 0x1da5aa34100>, 0.2926899194717407),\n",
       " (<spacy.lexeme.Lexeme at 0x1da2f0b7900>, 0.2898596227169037),\n",
       " (<spacy.lexeme.Lexeme at 0x1da586ffd40>, 0.2833782136440277),\n",
       " (<spacy.lexeme.Lexeme at 0x1da58608e40>, 0.283033549785614),\n",
       " (<spacy.lexeme.Lexeme at 0x1da2f0a9a80>, 0.26955559849739075),\n",
       " (<spacy.lexeme.Lexeme at 0x1da5aac2200>, 0.26932212710380554),\n",
       " (<spacy.lexeme.Lexeme at 0x1da5aa36280>, 0.266380250453949),\n",
       " (<spacy.lexeme.Lexeme at 0x1da5aac8a00>, 0.25798389315605164),\n",
       " (<spacy.lexeme.Lexeme at 0x1da5aa34940>, 0.2465803474187851),\n",
       " (<spacy.lexeme.Lexeme at 0x1da586e0100>, 0.2416202425956726),\n",
       " (<spacy.lexeme.Lexeme at 0x1da5aa34440>, 0.24003535509109497),\n",
       " (<spacy.lexeme.Lexeme at 0x1da5aaca100>, 0.23080326616764069),\n",
       " (<spacy.lexeme.Lexeme at 0x1da5aa34780>, 0.2254330962896347),\n",
       " (<spacy.lexeme.Lexeme at 0x1da5aac0d40>, 0.22187210619449615),\n",
       " (<spacy.lexeme.Lexeme at 0x1da5aaabec0>, 0.21815316379070282),\n",
       " (<spacy.lexeme.Lexeme at 0x1da25952100>, 0.21393075585365295),\n",
       " (<spacy.lexeme.Lexeme at 0x1da2ee97000>, 0.2121567577123642),\n",
       " (<spacy.lexeme.Lexeme at 0x1da5aac20c0>, 0.2090519368648529),\n",
       " (<spacy.lexeme.Lexeme at 0x1da5aa34640>, 0.20415686070919037),\n",
       " (<spacy.lexeme.Lexeme at 0x1da5aac8680>, 0.20185594260692596),\n",
       " (<spacy.lexeme.Lexeme at 0x1da5aac8c40>, 0.20116958022117615),\n",
       " (<spacy.lexeme.Lexeme at 0x1da586e4c80>, 0.19990698993206024),\n",
       " (<spacy.lexeme.Lexeme at 0x1da58609e00>, 0.19644013047218323),\n",
       " (<spacy.lexeme.Lexeme at 0x1da586428c0>, 0.18580730259418488),\n",
       " (<spacy.lexeme.Lexeme at 0x1da5aac1880>, 0.181433767080307),\n",
       " (<spacy.lexeme.Lexeme at 0x1da5aac8a80>, 0.1793898493051529),\n",
       " (<spacy.lexeme.Lexeme at 0x1da58600d80>, 0.17656052112579346),\n",
       " (<spacy.lexeme.Lexeme at 0x1da2ee97b00>, 0.17220371961593628),\n",
       " (<spacy.lexeme.Lexeme at 0x1da5aac2900>, 0.16010816395282745),\n",
       " (<spacy.lexeme.Lexeme at 0x1da5aac99c0>, 0.15490320324897766),\n",
       " (<spacy.lexeme.Lexeme at 0x1da5aac2a80>, 0.13670341670513153),\n",
       " (<spacy.lexeme.Lexeme at 0x1da2f0b6d00>, 0.13091273605823517),\n",
       " (<spacy.lexeme.Lexeme at 0x1da2ee94940>, 0.12557661533355713),\n",
       " (<spacy.lexeme.Lexeme at 0x1da210eb380>, 0.12013807147741318),\n",
       " (<spacy.lexeme.Lexeme at 0x1da5aa37200>, 0.10698670893907547),\n",
       " (<spacy.lexeme.Lexeme at 0x1da2647f100>, 0.10431993752717972),\n",
       " (<spacy.lexeme.Lexeme at 0x1da261acac0>, 0.10000677406787872),\n",
       " (<spacy.lexeme.Lexeme at 0x1da5aac1200>, 0.09778809547424316),\n",
       " (<spacy.lexeme.Lexeme at 0x1da2ee945c0>, 0.08244204521179199),\n",
       " (<spacy.lexeme.Lexeme at 0x1da5aacaa40>, 0.07339465618133545),\n",
       " (<spacy.lexeme.Lexeme at 0x1da2ee969c0>, 0.07244130969047546),\n",
       " (<spacy.lexeme.Lexeme at 0x1da58609800>, 0.0719887912273407),\n",
       " (<spacy.lexeme.Lexeme at 0x1da5aacb140>, 0.07003621011972427),\n",
       " (<spacy.lexeme.Lexeme at 0x1da5aac3480>, 0.06565330177545547),\n",
       " (<spacy.lexeme.Lexeme at 0x1da2ee95700>, 0.06257739663124084),\n",
       " (<spacy.lexeme.Lexeme at 0x1da2f0b5a80>, 0.0622316375374794),\n",
       " (<spacy.lexeme.Lexeme at 0x1da5aa34c80>, 0.061639439314603806),\n",
       " (<spacy.lexeme.Lexeme at 0x1da2ee970c0>, 0.061372771859169006),\n",
       " (<spacy.lexeme.Lexeme at 0x1da2ee96480>, 0.05999797582626343),\n",
       " (<spacy.lexeme.Lexeme at 0x1da5aacb1c0>, 0.05524952709674835),\n",
       " (<spacy.lexeme.Lexeme at 0x1da2ee97180>, 0.054689355194568634),\n",
       " (<spacy.lexeme.Lexeme at 0x1da586e3700>, 0.05038555711507797),\n",
       " (<spacy.lexeme.Lexeme at 0x1da150642c0>, 0.03642822802066803),\n",
       " (<spacy.lexeme.Lexeme at 0x1da2ee94840>, 0.03469546511769295),\n",
       " (<spacy.lexeme.Lexeme at 0x1da5aac1540>, 0.03319096937775612),\n",
       " (<spacy.lexeme.Lexeme at 0x1da5aa35500>, 0.03249751776456833),\n",
       " (<spacy.lexeme.Lexeme at 0x1da2ee94580>, 0.029356814920902252),\n",
       " (<spacy.lexeme.Lexeme at 0x1da5aaab1c0>, 0.02749769762158394),\n",
       " (<spacy.lexeme.Lexeme at 0x1da2ee96800>, 0.0261156614869833),\n",
       " (<spacy.lexeme.Lexeme at 0x1da5aac3a40>, 0.022534290328621864),\n",
       " (<spacy.lexeme.Lexeme at 0x1da586e2700>, 0.021381396800279617),\n",
       " (<spacy.lexeme.Lexeme at 0x1da2f082e00>, 0.017747921869158745),\n",
       " (<spacy.lexeme.Lexeme at 0x1da58609b40>, 0.017566954717040062),\n",
       " (<spacy.lexeme.Lexeme at 0x1da586e2e80>, 0.016177993267774582),\n",
       " (<spacy.lexeme.Lexeme at 0x1da5aac9800>, 0.01613551378250122),\n",
       " (<spacy.lexeme.Lexeme at 0x1da2ee97080>, 0.014911837875843048),\n",
       " (<spacy.lexeme.Lexeme at 0x1da5aa35240>, 0.01251276396214962),\n",
       " (<spacy.lexeme.Lexeme at 0x1da5866c300>, 0.008380548097193241),\n",
       " (<spacy.lexeme.Lexeme at 0x1da58640340>, 0.0066097755916416645),\n",
       " (<spacy.lexeme.Lexeme at 0x1da2f0b5a00>, 0.005720385815948248),\n",
       " (<spacy.lexeme.Lexeme at 0x1da5aac0380>, 0.004759781062602997),\n",
       " (<spacy.lexeme.Lexeme at 0x1da586e1400>, 0.004386077634990215),\n",
       " (<spacy.lexeme.Lexeme at 0x1da2ee97340>, 0.0009621680364944041),\n",
       " (<spacy.lexeme.Lexeme at 0x1da5aaa1fc0>, -0.001242928672581911),\n",
       " (<spacy.lexeme.Lexeme at 0x1da5aacb780>, -0.001569278072565794),\n",
       " (<spacy.lexeme.Lexeme at 0x1da5aaabb40>, -0.0031983337830752134),\n",
       " (<spacy.lexeme.Lexeme at 0x1da2ee95d40>, -0.0035099152009934187),\n",
       " (<spacy.lexeme.Lexeme at 0x1da586e3940>, -0.007181430701166391),\n",
       " (<spacy.lexeme.Lexeme at 0x1da2ee959c0>, -0.007245962042361498),\n",
       " (<spacy.lexeme.Lexeme at 0x1da586e11c0>, -0.010682614520192146),\n",
       " (<spacy.lexeme.Lexeme at 0x1da5aa34880>, -0.01189793273806572),\n",
       " (<spacy.lexeme.Lexeme at 0x1da2ee97500>, -0.013968191109597683),\n",
       " (<spacy.lexeme.Lexeme at 0x1da2ee97e80>, -0.0174685250967741),\n",
       " (<spacy.lexeme.Lexeme at 0x1da5aa34bc0>, -0.022200554609298706),\n",
       " (<spacy.lexeme.Lexeme at 0x1da2f0c3980>, -0.03126813471317291),\n",
       " (<spacy.lexeme.Lexeme at 0x1da2ee944c0>, -0.04106904938817024),\n",
       " (<spacy.lexeme.Lexeme at 0x1da2ee96c40>, -0.04508766159415245),\n",
       " (<spacy.lexeme.Lexeme at 0x1da5aaa9b00>, -0.04832000285387039),\n",
       " (<spacy.lexeme.Lexeme at 0x1da2ee95b80>, -0.06810466200113297),\n",
       " (<spacy.lexeme.Lexeme at 0x1da5860a880>, -0.07287076115608215),\n",
       " (<spacy.lexeme.Lexeme at 0x1da5aaca2c0>, -0.07636149227619171),\n",
       " (<spacy.lexeme.Lexeme at 0x1da5aaaa380>, -0.07872253656387329),\n",
       " (<spacy.lexeme.Lexeme at 0x1da58608240>, -0.08220101147890091),\n",
       " (<spacy.lexeme.Lexeme at 0x1da2ee97b80>, -0.08385646343231201),\n",
       " (<spacy.lexeme.Lexeme at 0x1da2ee97300>, -0.08980458229780197),\n",
       " (<spacy.lexeme.Lexeme at 0x1da2ee96600>, -0.0951840877532959),\n",
       " (<spacy.lexeme.Lexeme at 0x1da5aa37840>, -0.10074420273303986),\n",
       " (<spacy.lexeme.Lexeme at 0x1da586e02c0>, -0.1028217151761055),\n",
       " (<spacy.lexeme.Lexeme at 0x1da5aac8ec0>, -0.12722618877887726),\n",
       " (<spacy.lexeme.Lexeme at 0x1da5aacbd80>, -0.1318208873271942),\n",
       " (<spacy.lexeme.Lexeme at 0x1da5ab5e4c0>, -0.14137345552444458),\n",
       " (<spacy.lexeme.Lexeme at 0x1da2ee94e40>, -0.14783941209316254),\n",
       " (<spacy.lexeme.Lexeme at 0x1da5aa345c0>, -0.20390625298023224),\n",
       " (<spacy.lexeme.Lexeme at 0x1da2ee96d00>, -0.20889312028884888),\n",
       " (<spacy.lexeme.Lexeme at 0x1da2e9223c0>, -0.21016256511211395),\n",
       " (<spacy.lexeme.Lexeme at 0x1da5aa34b00>, -0.2223987877368927)]"
      ]
     },
     "execution_count": 27,
     "metadata": {},
     "output_type": "execute_result"
    }
   ],
   "source": [
    "computed_similarities"
   ]
  },
  {
   "cell_type": "code",
   "execution_count": 28,
   "id": "f0272dd2-131b-4608-85a7-2b04bccbba1a",
   "metadata": {},
   "outputs": [
    {
     "name": "stdout",
     "output_type": "stream",
     "text": [
      "['king', 'queen', 'and', 'that', 'where', 'she', 'they', 'woman', 'there', 'should']\n"
     ]
    }
   ],
   "source": [
    "print([t[0].text for t in computed_similarities[:10]])"
   ]
  },
  {
   "cell_type": "code",
   "execution_count": 36,
   "id": "786cdbf6-1bbe-4a6b-bca1-1ec311b0f06d",
   "metadata": {},
   "outputs": [
    {
     "name": "stdout",
     "output_type": "stream",
     "text": [
      "['king', 'kings', 'princes', 'consort', 'princeling', 'monarch', 'princelings', 'princesses', 'prince', 'kingship']\n"
     ]
    }
   ],
   "source": [
    "import spacy\n",
    "nlp = spacy.load(\"en_core_web_lg\")\n",
    "from scipy import spatial\n",
    "\n",
    "cosine_similarity = lambda vec1, vec2: 1 - spatial.distance.cosine(vec1, vec2)\n",
    "king = nlp.vocab[\"king\"].vector\n",
    "man = nlp.vocab[\"man\"].vector\n",
    "woman = nlp.vocab[\"woman\"].vector\n",
    "queen = nlp.vocab[\"queen\"].vector\n",
    "new_vector = king - man + woman\n",
    "computed_similarities = []\n",
    "\n",
    "# Filter the words based on criteria that make sense\n",
    "for word in nlp.vocab.vectors:\n",
    "    word = nlp.vocab[word]\n",
    "    if word.has_vector and word.is_alpha and word.is_lower:\n",
    "        similarity = cosine_similarity(new_vector, word.vector)\n",
    "        computed_similarities.append((word, similarity))\n",
    "\n",
    "# Sort the computed similarities by similarity score\n",
    "computed_similarities = sorted(computed_similarities, key=lambda item: -item[1])\n",
    "\n",
    "# Print the top 10 most similar words\n",
    "print([t[0].text for t in computed_similarities[:10]])\n"
   ]
  },
  {
   "cell_type": "code",
   "execution_count": 37,
   "id": "a4b19a35-5df0-4b35-a1f8-99a80ed58972",
   "metadata": {},
   "outputs": [
    {
     "name": "stdout",
     "output_type": "stream",
     "text": [
      "['king', 'queen', 'and', 'that', 'where', 'she', 'they', 'woman', 'there', 'should']\n"
     ]
    }
   ],
   "source": [
    "# Wrong way\n",
    "import spacy\n",
    "nlp = spacy.load(\"en_core_web_lg\")\n",
    "from scipy import spatial\n",
    "\n",
    "\n",
    "cosine_similarity = lambda vec1,vec2: 1 - spatial.distance.cosine(vec1,vec2)\n",
    "king = nlp.vocab[\"king\"].vector\n",
    "man = nlp.vocab[\"man\"].vector\n",
    "woman = nlp.vocab[\"woman\"].vector\n",
    "queen = nlp.vocab[\"queen\"].vector\n",
    "new_vector = king-man+woman\n",
    "computed_similarities = []\n",
    "# FOR ALL WORD IN MY VOCAB\n",
    "for word in nlp.vocab:\n",
    "    if word.has_vector:\n",
    "        if word.is_lower:\n",
    "            if word.is_alpha:\n",
    "                similarity = cosine_similarity(new_vector,word.vector)\n",
    "                computed_similarities.append((word,similarity))\n",
    "computed_similarities = sorted(computed_similarities,key = lambda item:-item[1])\n",
    "print([t[0].text for t in computed_similarities[:10]])"
   ]
  },
  {
   "cell_type": "code",
   "execution_count": 40,
   "id": "bf39eabf-b213-4898-8f53-07140ca9f6ff",
   "metadata": {},
   "outputs": [
    {
     "name": "stdout",
     "output_type": "stream",
     "text": [
      "['king', 'kings', 'princes', 'consort', 'princeling', 'monarch', 'princelings', 'princesses', 'prince', 'kingship']\n"
     ]
    }
   ],
   "source": [
    "# Right way\n",
    "import spacy\n",
    "nlp = spacy.load(\"en_core_web_lg\")\n",
    "from scipy import spatial\n",
    "\n",
    "\n",
    "cosine_similarity = lambda vec1,vec2: 1 - spatial.distance.cosine(vec1,vec2)\n",
    "king = nlp.vocab[\"king\"].vector\n",
    "man = nlp.vocab[\"man\"].vector\n",
    "woman = nlp.vocab[\"woman\"].vector\n",
    "queen = nlp.vocab[\"queen\"].vector\n",
    "new_vector = king-man+woman\n",
    "computed_similarities = []\n",
    "# FOR ALL WORD IN MY VOCAB\n",
    "for word in nlp.vocab.vectors:\n",
    "    word = nlp.vocab[word]\n",
    "    if word.has_vector:\n",
    "        if word.is_lower:\n",
    "            if word.is_alpha:\n",
    "                similarity = cosine_similarity(new_vector,word.vector)\n",
    "                computed_similarities.append((word,similarity))\n",
    "computed_similarities = sorted(computed_similarities,key = lambda item:-item[1])\n",
    "print([t[0].text for t in computed_similarities[:10]])"
   ]
  },
  {
   "cell_type": "code",
   "execution_count": null,
   "id": "2060bb3f-66b6-4dff-8622-35e969613df5",
   "metadata": {},
   "outputs": [],
   "source": []
  }
 ],
 "metadata": {
  "kernelspec": {
   "display_name": "Python 3 (ipykernel)",
   "language": "python",
   "name": "python3"
  },
  "language_info": {
   "codemirror_mode": {
    "name": "ipython",
    "version": 3
   },
   "file_extension": ".py",
   "mimetype": "text/x-python",
   "name": "python",
   "nbconvert_exporter": "python",
   "pygments_lexer": "ipython3",
   "version": "3.10.9"
  },
  "widgets": {
   "application/vnd.jupyter.widget-state+json": {
    "state": {},
    "version_major": 2,
    "version_minor": 0
   }
  }
 },
 "nbformat": 4,
 "nbformat_minor": 5
}
