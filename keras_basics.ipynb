{
 "cells": [
  {
   "cell_type": "code",
   "execution_count": 1,
   "id": "e888d0fb-34ad-49bc-a4ac-56e23807c8fa",
   "metadata": {},
   "outputs": [],
   "source": [
    "import numpy as np"
   ]
  },
  {
   "cell_type": "code",
   "execution_count": 2,
   "id": "3bae4be4-131d-4e49-ae1a-1a9296d84b38",
   "metadata": {},
   "outputs": [],
   "source": [
    "from sklearn.datasets import load_iris"
   ]
  },
  {
   "cell_type": "code",
   "execution_count": 3,
   "id": "e95caefa-a846-4609-ad84-bf0547f26e8b",
   "metadata": {},
   "outputs": [],
   "source": [
    "iris = load_iris()"
   ]
  },
  {
   "cell_type": "code",
   "execution_count": 4,
   "id": "1ce0fe04-f529-4939-8945-34637f499893",
   "metadata": {},
   "outputs": [
    {
     "name": "stdout",
     "output_type": "stream",
     "text": [
      ".. _iris_dataset:\n",
      "\n",
      "Iris plants dataset\n",
      "--------------------\n",
      "\n",
      "**Data Set Characteristics:**\n",
      "\n",
      "    :Number of Instances: 150 (50 in each of three classes)\n",
      "    :Number of Attributes: 4 numeric, predictive attributes and the class\n",
      "    :Attribute Information:\n",
      "        - sepal length in cm\n",
      "        - sepal width in cm\n",
      "        - petal length in cm\n",
      "        - petal width in cm\n",
      "        - class:\n",
      "                - Iris-Setosa\n",
      "                - Iris-Versicolour\n",
      "                - Iris-Virginica\n",
      "                \n",
      "    :Summary Statistics:\n",
      "\n",
      "    ============== ==== ==== ======= ===== ====================\n",
      "                    Min  Max   Mean    SD   Class Correlation\n",
      "    ============== ==== ==== ======= ===== ====================\n",
      "    sepal length:   4.3  7.9   5.84   0.83    0.7826\n",
      "    sepal width:    2.0  4.4   3.05   0.43   -0.4194\n",
      "    petal length:   1.0  6.9   3.76   1.76    0.9490  (high!)\n",
      "    petal width:    0.1  2.5   1.20   0.76    0.9565  (high!)\n",
      "    ============== ==== ==== ======= ===== ====================\n",
      "\n",
      "    :Missing Attribute Values: None\n",
      "    :Class Distribution: 33.3% for each of 3 classes.\n",
      "    :Creator: R.A. Fisher\n",
      "    :Donor: Michael Marshall (MARSHALL%PLU@io.arc.nasa.gov)\n",
      "    :Date: July, 1988\n",
      "\n",
      "The famous Iris database, first used by Sir R.A. Fisher. The dataset is taken\n",
      "from Fisher's paper. Note that it's the same as in R, but not as in the UCI\n",
      "Machine Learning Repository, which has two wrong data points.\n",
      "\n",
      "This is perhaps the best known database to be found in the\n",
      "pattern recognition literature.  Fisher's paper is a classic in the field and\n",
      "is referenced frequently to this day.  (See Duda & Hart, for example.)  The\n",
      "data set contains 3 classes of 50 instances each, where each class refers to a\n",
      "type of iris plant.  One class is linearly separable from the other 2; the\n",
      "latter are NOT linearly separable from each other.\n",
      "\n",
      ".. topic:: References\n",
      "\n",
      "   - Fisher, R.A. \"The use of multiple measurements in taxonomic problems\"\n",
      "     Annual Eugenics, 7, Part II, 179-188 (1936); also in \"Contributions to\n",
      "     Mathematical Statistics\" (John Wiley, NY, 1950).\n",
      "   - Duda, R.O., & Hart, P.E. (1973) Pattern Classification and Scene Analysis.\n",
      "     (Q327.D83) John Wiley & Sons.  ISBN 0-471-22361-1.  See page 218.\n",
      "   - Dasarathy, B.V. (1980) \"Nosing Around the Neighborhood: A New System\n",
      "     Structure and Classification Rule for Recognition in Partially Exposed\n",
      "     Environments\".  IEEE Transactions on Pattern Analysis and Machine\n",
      "     Intelligence, Vol. PAMI-2, No. 1, 67-71.\n",
      "   - Gates, G.W. (1972) \"The Reduced Nearest Neighbor Rule\".  IEEE Transactions\n",
      "     on Information Theory, May 1972, 431-433.\n",
      "   - See also: 1988 MLC Proceedings, 54-64.  Cheeseman et al\"s AUTOCLASS II\n",
      "     conceptual clustering system finds 3 classes in the data.\n",
      "   - Many, many more ...\n"
     ]
    }
   ],
   "source": [
    "print(iris.DESCR)"
   ]
  },
  {
   "cell_type": "code",
   "execution_count": 5,
   "id": "7c3d1ea7-ea1d-4830-b737-8c2ed26ec367",
   "metadata": {},
   "outputs": [],
   "source": [
    "X = iris.data"
   ]
  },
  {
   "cell_type": "code",
   "execution_count": 6,
   "id": "06a0ef0a-ad29-4aba-be8f-2d9cc6ce5bf4",
   "metadata": {},
   "outputs": [
    {
     "data": {
      "text/plain": [
       "array([[5.1, 3.5, 1.4, 0.2],\n",
       "       [4.9, 3. , 1.4, 0.2],\n",
       "       [4.7, 3.2, 1.3, 0.2],\n",
       "       [4.6, 3.1, 1.5, 0.2],\n",
       "       [5. , 3.6, 1.4, 0.2],\n",
       "       [5.4, 3.9, 1.7, 0.4],\n",
       "       [4.6, 3.4, 1.4, 0.3],\n",
       "       [5. , 3.4, 1.5, 0.2],\n",
       "       [4.4, 2.9, 1.4, 0.2],\n",
       "       [4.9, 3.1, 1.5, 0.1],\n",
       "       [5.4, 3.7, 1.5, 0.2],\n",
       "       [4.8, 3.4, 1.6, 0.2],\n",
       "       [4.8, 3. , 1.4, 0.1],\n",
       "       [4.3, 3. , 1.1, 0.1],\n",
       "       [5.8, 4. , 1.2, 0.2],\n",
       "       [5.7, 4.4, 1.5, 0.4],\n",
       "       [5.4, 3.9, 1.3, 0.4],\n",
       "       [5.1, 3.5, 1.4, 0.3],\n",
       "       [5.7, 3.8, 1.7, 0.3],\n",
       "       [5.1, 3.8, 1.5, 0.3],\n",
       "       [5.4, 3.4, 1.7, 0.2],\n",
       "       [5.1, 3.7, 1.5, 0.4],\n",
       "       [4.6, 3.6, 1. , 0.2],\n",
       "       [5.1, 3.3, 1.7, 0.5],\n",
       "       [4.8, 3.4, 1.9, 0.2],\n",
       "       [5. , 3. , 1.6, 0.2],\n",
       "       [5. , 3.4, 1.6, 0.4],\n",
       "       [5.2, 3.5, 1.5, 0.2],\n",
       "       [5.2, 3.4, 1.4, 0.2],\n",
       "       [4.7, 3.2, 1.6, 0.2],\n",
       "       [4.8, 3.1, 1.6, 0.2],\n",
       "       [5.4, 3.4, 1.5, 0.4],\n",
       "       [5.2, 4.1, 1.5, 0.1],\n",
       "       [5.5, 4.2, 1.4, 0.2],\n",
       "       [4.9, 3.1, 1.5, 0.2],\n",
       "       [5. , 3.2, 1.2, 0.2],\n",
       "       [5.5, 3.5, 1.3, 0.2],\n",
       "       [4.9, 3.6, 1.4, 0.1],\n",
       "       [4.4, 3. , 1.3, 0.2],\n",
       "       [5.1, 3.4, 1.5, 0.2],\n",
       "       [5. , 3.5, 1.3, 0.3],\n",
       "       [4.5, 2.3, 1.3, 0.3],\n",
       "       [4.4, 3.2, 1.3, 0.2],\n",
       "       [5. , 3.5, 1.6, 0.6],\n",
       "       [5.1, 3.8, 1.9, 0.4],\n",
       "       [4.8, 3. , 1.4, 0.3],\n",
       "       [5.1, 3.8, 1.6, 0.2],\n",
       "       [4.6, 3.2, 1.4, 0.2],\n",
       "       [5.3, 3.7, 1.5, 0.2],\n",
       "       [5. , 3.3, 1.4, 0.2],\n",
       "       [7. , 3.2, 4.7, 1.4],\n",
       "       [6.4, 3.2, 4.5, 1.5],\n",
       "       [6.9, 3.1, 4.9, 1.5],\n",
       "       [5.5, 2.3, 4. , 1.3],\n",
       "       [6.5, 2.8, 4.6, 1.5],\n",
       "       [5.7, 2.8, 4.5, 1.3],\n",
       "       [6.3, 3.3, 4.7, 1.6],\n",
       "       [4.9, 2.4, 3.3, 1. ],\n",
       "       [6.6, 2.9, 4.6, 1.3],\n",
       "       [5.2, 2.7, 3.9, 1.4],\n",
       "       [5. , 2. , 3.5, 1. ],\n",
       "       [5.9, 3. , 4.2, 1.5],\n",
       "       [6. , 2.2, 4. , 1. ],\n",
       "       [6.1, 2.9, 4.7, 1.4],\n",
       "       [5.6, 2.9, 3.6, 1.3],\n",
       "       [6.7, 3.1, 4.4, 1.4],\n",
       "       [5.6, 3. , 4.5, 1.5],\n",
       "       [5.8, 2.7, 4.1, 1. ],\n",
       "       [6.2, 2.2, 4.5, 1.5],\n",
       "       [5.6, 2.5, 3.9, 1.1],\n",
       "       [5.9, 3.2, 4.8, 1.8],\n",
       "       [6.1, 2.8, 4. , 1.3],\n",
       "       [6.3, 2.5, 4.9, 1.5],\n",
       "       [6.1, 2.8, 4.7, 1.2],\n",
       "       [6.4, 2.9, 4.3, 1.3],\n",
       "       [6.6, 3. , 4.4, 1.4],\n",
       "       [6.8, 2.8, 4.8, 1.4],\n",
       "       [6.7, 3. , 5. , 1.7],\n",
       "       [6. , 2.9, 4.5, 1.5],\n",
       "       [5.7, 2.6, 3.5, 1. ],\n",
       "       [5.5, 2.4, 3.8, 1.1],\n",
       "       [5.5, 2.4, 3.7, 1. ],\n",
       "       [5.8, 2.7, 3.9, 1.2],\n",
       "       [6. , 2.7, 5.1, 1.6],\n",
       "       [5.4, 3. , 4.5, 1.5],\n",
       "       [6. , 3.4, 4.5, 1.6],\n",
       "       [6.7, 3.1, 4.7, 1.5],\n",
       "       [6.3, 2.3, 4.4, 1.3],\n",
       "       [5.6, 3. , 4.1, 1.3],\n",
       "       [5.5, 2.5, 4. , 1.3],\n",
       "       [5.5, 2.6, 4.4, 1.2],\n",
       "       [6.1, 3. , 4.6, 1.4],\n",
       "       [5.8, 2.6, 4. , 1.2],\n",
       "       [5. , 2.3, 3.3, 1. ],\n",
       "       [5.6, 2.7, 4.2, 1.3],\n",
       "       [5.7, 3. , 4.2, 1.2],\n",
       "       [5.7, 2.9, 4.2, 1.3],\n",
       "       [6.2, 2.9, 4.3, 1.3],\n",
       "       [5.1, 2.5, 3. , 1.1],\n",
       "       [5.7, 2.8, 4.1, 1.3],\n",
       "       [6.3, 3.3, 6. , 2.5],\n",
       "       [5.8, 2.7, 5.1, 1.9],\n",
       "       [7.1, 3. , 5.9, 2.1],\n",
       "       [6.3, 2.9, 5.6, 1.8],\n",
       "       [6.5, 3. , 5.8, 2.2],\n",
       "       [7.6, 3. , 6.6, 2.1],\n",
       "       [4.9, 2.5, 4.5, 1.7],\n",
       "       [7.3, 2.9, 6.3, 1.8],\n",
       "       [6.7, 2.5, 5.8, 1.8],\n",
       "       [7.2, 3.6, 6.1, 2.5],\n",
       "       [6.5, 3.2, 5.1, 2. ],\n",
       "       [6.4, 2.7, 5.3, 1.9],\n",
       "       [6.8, 3. , 5.5, 2.1],\n",
       "       [5.7, 2.5, 5. , 2. ],\n",
       "       [5.8, 2.8, 5.1, 2.4],\n",
       "       [6.4, 3.2, 5.3, 2.3],\n",
       "       [6.5, 3. , 5.5, 1.8],\n",
       "       [7.7, 3.8, 6.7, 2.2],\n",
       "       [7.7, 2.6, 6.9, 2.3],\n",
       "       [6. , 2.2, 5. , 1.5],\n",
       "       [6.9, 3.2, 5.7, 2.3],\n",
       "       [5.6, 2.8, 4.9, 2. ],\n",
       "       [7.7, 2.8, 6.7, 2. ],\n",
       "       [6.3, 2.7, 4.9, 1.8],\n",
       "       [6.7, 3.3, 5.7, 2.1],\n",
       "       [7.2, 3.2, 6. , 1.8],\n",
       "       [6.2, 2.8, 4.8, 1.8],\n",
       "       [6.1, 3. , 4.9, 1.8],\n",
       "       [6.4, 2.8, 5.6, 2.1],\n",
       "       [7.2, 3. , 5.8, 1.6],\n",
       "       [7.4, 2.8, 6.1, 1.9],\n",
       "       [7.9, 3.8, 6.4, 2. ],\n",
       "       [6.4, 2.8, 5.6, 2.2],\n",
       "       [6.3, 2.8, 5.1, 1.5],\n",
       "       [6.1, 2.6, 5.6, 1.4],\n",
       "       [7.7, 3. , 6.1, 2.3],\n",
       "       [6.3, 3.4, 5.6, 2.4],\n",
       "       [6.4, 3.1, 5.5, 1.8],\n",
       "       [6. , 3. , 4.8, 1.8],\n",
       "       [6.9, 3.1, 5.4, 2.1],\n",
       "       [6.7, 3.1, 5.6, 2.4],\n",
       "       [6.9, 3.1, 5.1, 2.3],\n",
       "       [5.8, 2.7, 5.1, 1.9],\n",
       "       [6.8, 3.2, 5.9, 2.3],\n",
       "       [6.7, 3.3, 5.7, 2.5],\n",
       "       [6.7, 3. , 5.2, 2.3],\n",
       "       [6.3, 2.5, 5. , 1.9],\n",
       "       [6.5, 3. , 5.2, 2. ],\n",
       "       [6.2, 3.4, 5.4, 2.3],\n",
       "       [5.9, 3. , 5.1, 1.8]])"
      ]
     },
     "execution_count": 6,
     "metadata": {},
     "output_type": "execute_result"
    }
   ],
   "source": [
    "X"
   ]
  },
  {
   "cell_type": "code",
   "execution_count": 7,
   "id": "e99a832a-2e2b-4a2c-94d2-be8a797384fb",
   "metadata": {},
   "outputs": [],
   "source": [
    "y = iris.target"
   ]
  },
  {
   "cell_type": "code",
   "execution_count": 8,
   "id": "45ba0868-870e-4517-94db-c40ecac898ed",
   "metadata": {},
   "outputs": [
    {
     "data": {
      "text/plain": [
       "array([0, 0, 0, 0, 0, 0, 0, 0, 0, 0, 0, 0, 0, 0, 0, 0, 0, 0, 0, 0, 0, 0,\n",
       "       0, 0, 0, 0, 0, 0, 0, 0, 0, 0, 0, 0, 0, 0, 0, 0, 0, 0, 0, 0, 0, 0,\n",
       "       0, 0, 0, 0, 0, 0, 1, 1, 1, 1, 1, 1, 1, 1, 1, 1, 1, 1, 1, 1, 1, 1,\n",
       "       1, 1, 1, 1, 1, 1, 1, 1, 1, 1, 1, 1, 1, 1, 1, 1, 1, 1, 1, 1, 1, 1,\n",
       "       1, 1, 1, 1, 1, 1, 1, 1, 1, 1, 1, 1, 2, 2, 2, 2, 2, 2, 2, 2, 2, 2,\n",
       "       2, 2, 2, 2, 2, 2, 2, 2, 2, 2, 2, 2, 2, 2, 2, 2, 2, 2, 2, 2, 2, 2,\n",
       "       2, 2, 2, 2, 2, 2, 2, 2, 2, 2, 2, 2, 2, 2, 2, 2, 2, 2])"
      ]
     },
     "execution_count": 8,
     "metadata": {},
     "output_type": "execute_result"
    }
   ],
   "source": [
    "y"
   ]
  },
  {
   "cell_type": "code",
   "execution_count": 9,
   "id": "1aa7ebb2-e75d-4556-a55e-346325f830dc",
   "metadata": {},
   "outputs": [],
   "source": [
    "# class 0 ->[1,0,0]\n",
    "# class 1 -> [0,1,0]\n",
    "# class 2 -> [0,0,1]"
   ]
  },
  {
   "cell_type": "code",
   "execution_count": 10,
   "id": "26c2cc84-5c47-4b9a-9ac1-22dfb74296ed",
   "metadata": {},
   "outputs": [],
   "source": [
    "from keras.utils import  to_categorical"
   ]
  },
  {
   "cell_type": "code",
   "execution_count": 11,
   "id": "f399de6a-437e-4658-920e-6b3b950d686e",
   "metadata": {},
   "outputs": [],
   "source": [
    "y = to_categorical(y)"
   ]
  },
  {
   "cell_type": "code",
   "execution_count": 12,
   "id": "6ab6166c-a63f-4e55-9da6-baf125c949c2",
   "metadata": {},
   "outputs": [
    {
     "data": {
      "text/plain": [
       "(150, 3)"
      ]
     },
     "execution_count": 12,
     "metadata": {},
     "output_type": "execute_result"
    }
   ],
   "source": [
    "y.shape"
   ]
  },
  {
   "cell_type": "code",
   "execution_count": 13,
   "id": "c4058d3c-1a28-4a9e-81db-34388a57ac62",
   "metadata": {},
   "outputs": [],
   "source": [
    "from sklearn.model_selection import train_test_split"
   ]
  },
  {
   "cell_type": "code",
   "execution_count": 14,
   "id": "0d1e28e3-b279-4797-8d9a-7a5134b86951",
   "metadata": {},
   "outputs": [],
   "source": [
    "X_train, X_test, y_train, y_test = train_test_split(X,y,test_size = 0.33, random_state = 42)"
   ]
  },
  {
   "cell_type": "code",
   "execution_count": 15,
   "id": "85897140-5b0b-42dd-b2ea-5a182790b630",
   "metadata": {},
   "outputs": [
    {
     "data": {
      "text/plain": [
       "array([[5.7, 2.9, 4.2, 1.3],\n",
       "       [7.6, 3. , 6.6, 2.1],\n",
       "       [5.6, 3. , 4.5, 1.5],\n",
       "       [5.1, 3.5, 1.4, 0.2],\n",
       "       [7.7, 2.8, 6.7, 2. ],\n",
       "       [5.8, 2.7, 4.1, 1. ],\n",
       "       [5.2, 3.4, 1.4, 0.2],\n",
       "       [5. , 3.5, 1.3, 0.3],\n",
       "       [5.1, 3.8, 1.9, 0.4],\n",
       "       [5. , 2. , 3.5, 1. ],\n",
       "       [6.3, 2.7, 4.9, 1.8],\n",
       "       [4.8, 3.4, 1.9, 0.2],\n",
       "       [5. , 3. , 1.6, 0.2],\n",
       "       [5.1, 3.3, 1.7, 0.5],\n",
       "       [5.6, 2.7, 4.2, 1.3],\n",
       "       [5.1, 3.4, 1.5, 0.2],\n",
       "       [5.7, 3. , 4.2, 1.2],\n",
       "       [7.7, 3.8, 6.7, 2.2],\n",
       "       [4.6, 3.2, 1.4, 0.2],\n",
       "       [6.2, 2.9, 4.3, 1.3],\n",
       "       [5.7, 2.5, 5. , 2. ],\n",
       "       [5.5, 4.2, 1.4, 0.2],\n",
       "       [6. , 3. , 4.8, 1.8],\n",
       "       [5.8, 2.7, 5.1, 1.9],\n",
       "       [6. , 2.2, 4. , 1. ],\n",
       "       [5.4, 3. , 4.5, 1.5],\n",
       "       [6.2, 3.4, 5.4, 2.3],\n",
       "       [5.5, 2.3, 4. , 1.3],\n",
       "       [5.4, 3.9, 1.7, 0.4],\n",
       "       [5. , 2.3, 3.3, 1. ],\n",
       "       [6.4, 2.7, 5.3, 1.9],\n",
       "       [5. , 3.3, 1.4, 0.2],\n",
       "       [5. , 3.2, 1.2, 0.2],\n",
       "       [5.5, 2.4, 3.8, 1.1],\n",
       "       [6.7, 3. , 5. , 1.7],\n",
       "       [4.9, 3.1, 1.5, 0.2],\n",
       "       [5.8, 2.8, 5.1, 2.4],\n",
       "       [5. , 3.4, 1.5, 0.2],\n",
       "       [5. , 3.5, 1.6, 0.6],\n",
       "       [5.9, 3.2, 4.8, 1.8],\n",
       "       [5.1, 2.5, 3. , 1.1],\n",
       "       [6.9, 3.2, 5.7, 2.3],\n",
       "       [6. , 2.7, 5.1, 1.6],\n",
       "       [6.1, 2.6, 5.6, 1.4],\n",
       "       [7.7, 3. , 6.1, 2.3],\n",
       "       [5.5, 2.5, 4. , 1.3],\n",
       "       [4.4, 2.9, 1.4, 0.2],\n",
       "       [4.3, 3. , 1.1, 0.1],\n",
       "       [6. , 2.2, 5. , 1.5],\n",
       "       [7.2, 3.2, 6. , 1.8],\n",
       "       [4.6, 3.1, 1.5, 0.2],\n",
       "       [5.1, 3.5, 1.4, 0.3],\n",
       "       [4.4, 3. , 1.3, 0.2],\n",
       "       [6.3, 2.5, 4.9, 1.5],\n",
       "       [6.3, 3.4, 5.6, 2.4],\n",
       "       [4.6, 3.4, 1.4, 0.3],\n",
       "       [6.8, 3. , 5.5, 2.1],\n",
       "       [6.3, 3.3, 6. , 2.5],\n",
       "       [4.7, 3.2, 1.3, 0.2],\n",
       "       [6.1, 2.9, 4.7, 1.4],\n",
       "       [6.5, 2.8, 4.6, 1.5],\n",
       "       [6.2, 2.8, 4.8, 1.8],\n",
       "       [7. , 3.2, 4.7, 1.4],\n",
       "       [6.4, 3.2, 5.3, 2.3],\n",
       "       [5.1, 3.8, 1.6, 0.2],\n",
       "       [6.9, 3.1, 5.4, 2.1],\n",
       "       [5.9, 3. , 4.2, 1.5],\n",
       "       [6.5, 3. , 5.2, 2. ],\n",
       "       [5.7, 2.6, 3.5, 1. ],\n",
       "       [5.2, 2.7, 3.9, 1.4],\n",
       "       [6.1, 3. , 4.6, 1.4],\n",
       "       [4.5, 2.3, 1.3, 0.3],\n",
       "       [6.6, 2.9, 4.6, 1.3],\n",
       "       [5.5, 2.6, 4.4, 1.2],\n",
       "       [5.3, 3.7, 1.5, 0.2],\n",
       "       [5.6, 3. , 4.1, 1.3],\n",
       "       [7.3, 2.9, 6.3, 1.8],\n",
       "       [6.7, 3.3, 5.7, 2.1],\n",
       "       [5.1, 3.7, 1.5, 0.4],\n",
       "       [4.9, 2.4, 3.3, 1. ],\n",
       "       [6.7, 3.3, 5.7, 2.5],\n",
       "       [7.2, 3. , 5.8, 1.6],\n",
       "       [4.9, 3.6, 1.4, 0.1],\n",
       "       [6.7, 3.1, 5.6, 2.4],\n",
       "       [4.9, 3. , 1.4, 0.2],\n",
       "       [6.9, 3.1, 4.9, 1.5],\n",
       "       [7.4, 2.8, 6.1, 1.9],\n",
       "       [6.3, 2.9, 5.6, 1.8],\n",
       "       [5.7, 2.8, 4.1, 1.3],\n",
       "       [6.5, 3. , 5.5, 1.8],\n",
       "       [6.3, 2.3, 4.4, 1.3],\n",
       "       [6.4, 2.9, 4.3, 1.3],\n",
       "       [5.6, 2.8, 4.9, 2. ],\n",
       "       [5.9, 3. , 5.1, 1.8],\n",
       "       [5.4, 3.4, 1.7, 0.2],\n",
       "       [6.1, 2.8, 4. , 1.3],\n",
       "       [4.9, 2.5, 4.5, 1.7],\n",
       "       [5.8, 4. , 1.2, 0.2],\n",
       "       [5.8, 2.6, 4. , 1.2],\n",
       "       [7.1, 3. , 5.9, 2.1]])"
      ]
     },
     "execution_count": 15,
     "metadata": {},
     "output_type": "execute_result"
    }
   ],
   "source": [
    "X_train"
   ]
  },
  {
   "cell_type": "code",
   "execution_count": 16,
   "id": "67d229bb-2996-493d-891b-5b9599c6e24d",
   "metadata": {},
   "outputs": [
    {
     "data": {
      "text/plain": [
       "array([[0., 1., 0.],\n",
       "       [1., 0., 0.],\n",
       "       [0., 0., 1.],\n",
       "       [0., 1., 0.],\n",
       "       [0., 1., 0.],\n",
       "       [1., 0., 0.],\n",
       "       [0., 1., 0.],\n",
       "       [0., 0., 1.],\n",
       "       [0., 1., 0.],\n",
       "       [0., 1., 0.],\n",
       "       [0., 0., 1.],\n",
       "       [1., 0., 0.],\n",
       "       [1., 0., 0.],\n",
       "       [1., 0., 0.],\n",
       "       [1., 0., 0.],\n",
       "       [0., 1., 0.],\n",
       "       [0., 0., 1.],\n",
       "       [0., 1., 0.],\n",
       "       [0., 1., 0.],\n",
       "       [0., 0., 1.],\n",
       "       [1., 0., 0.],\n",
       "       [0., 0., 1.],\n",
       "       [1., 0., 0.],\n",
       "       [0., 0., 1.],\n",
       "       [0., 0., 1.],\n",
       "       [0., 0., 1.],\n",
       "       [0., 0., 1.],\n",
       "       [0., 0., 1.],\n",
       "       [1., 0., 0.],\n",
       "       [1., 0., 0.],\n",
       "       [1., 0., 0.],\n",
       "       [1., 0., 0.],\n",
       "       [0., 1., 0.],\n",
       "       [1., 0., 0.],\n",
       "       [1., 0., 0.],\n",
       "       [0., 0., 1.],\n",
       "       [0., 1., 0.],\n",
       "       [1., 0., 0.],\n",
       "       [1., 0., 0.],\n",
       "       [1., 0., 0.],\n",
       "       [0., 0., 1.],\n",
       "       [0., 1., 0.],\n",
       "       [0., 1., 0.],\n",
       "       [1., 0., 0.],\n",
       "       [1., 0., 0.],\n",
       "       [0., 1., 0.],\n",
       "       [0., 0., 1.],\n",
       "       [0., 0., 1.],\n",
       "       [0., 1., 0.],\n",
       "       [0., 0., 1.]], dtype=float32)"
      ]
     },
     "execution_count": 16,
     "metadata": {},
     "output_type": "execute_result"
    }
   ],
   "source": [
    "y_test"
   ]
  },
  {
   "cell_type": "code",
   "execution_count": 17,
   "id": "6381b4db-ec01-4592-be42-636360b56489",
   "metadata": {},
   "outputs": [],
   "source": [
    "from sklearn.preprocessing import MinMaxScaler"
   ]
  },
  {
   "cell_type": "code",
   "execution_count": 18,
   "id": "660798d7-2179-48a6-a56c-f16a032f94f3",
   "metadata": {},
   "outputs": [],
   "source": [
    "scaler_object = MinMaxScaler()"
   ]
  },
  {
   "cell_type": "code",
   "execution_count": 19,
   "id": "c5704b03-3b38-41f1-8001-fafe86de42fb",
   "metadata": {},
   "outputs": [
    {
     "data": {
      "text/html": [
       "<style>#sk-container-id-1 {color: black;background-color: white;}#sk-container-id-1 pre{padding: 0;}#sk-container-id-1 div.sk-toggleable {background-color: white;}#sk-container-id-1 label.sk-toggleable__label {cursor: pointer;display: block;width: 100%;margin-bottom: 0;padding: 0.3em;box-sizing: border-box;text-align: center;}#sk-container-id-1 label.sk-toggleable__label-arrow:before {content: \"▸\";float: left;margin-right: 0.25em;color: #696969;}#sk-container-id-1 label.sk-toggleable__label-arrow:hover:before {color: black;}#sk-container-id-1 div.sk-estimator:hover label.sk-toggleable__label-arrow:before {color: black;}#sk-container-id-1 div.sk-toggleable__content {max-height: 0;max-width: 0;overflow: hidden;text-align: left;background-color: #f0f8ff;}#sk-container-id-1 div.sk-toggleable__content pre {margin: 0.2em;color: black;border-radius: 0.25em;background-color: #f0f8ff;}#sk-container-id-1 input.sk-toggleable__control:checked~div.sk-toggleable__content {max-height: 200px;max-width: 100%;overflow: auto;}#sk-container-id-1 input.sk-toggleable__control:checked~label.sk-toggleable__label-arrow:before {content: \"▾\";}#sk-container-id-1 div.sk-estimator input.sk-toggleable__control:checked~label.sk-toggleable__label {background-color: #d4ebff;}#sk-container-id-1 div.sk-label input.sk-toggleable__control:checked~label.sk-toggleable__label {background-color: #d4ebff;}#sk-container-id-1 input.sk-hidden--visually {border: 0;clip: rect(1px 1px 1px 1px);clip: rect(1px, 1px, 1px, 1px);height: 1px;margin: -1px;overflow: hidden;padding: 0;position: absolute;width: 1px;}#sk-container-id-1 div.sk-estimator {font-family: monospace;background-color: #f0f8ff;border: 1px dotted black;border-radius: 0.25em;box-sizing: border-box;margin-bottom: 0.5em;}#sk-container-id-1 div.sk-estimator:hover {background-color: #d4ebff;}#sk-container-id-1 div.sk-parallel-item::after {content: \"\";width: 100%;border-bottom: 1px solid gray;flex-grow: 1;}#sk-container-id-1 div.sk-label:hover label.sk-toggleable__label {background-color: #d4ebff;}#sk-container-id-1 div.sk-serial::before {content: \"\";position: absolute;border-left: 1px solid gray;box-sizing: border-box;top: 0;bottom: 0;left: 50%;z-index: 0;}#sk-container-id-1 div.sk-serial {display: flex;flex-direction: column;align-items: center;background-color: white;padding-right: 0.2em;padding-left: 0.2em;position: relative;}#sk-container-id-1 div.sk-item {position: relative;z-index: 1;}#sk-container-id-1 div.sk-parallel {display: flex;align-items: stretch;justify-content: center;background-color: white;position: relative;}#sk-container-id-1 div.sk-item::before, #sk-container-id-1 div.sk-parallel-item::before {content: \"\";position: absolute;border-left: 1px solid gray;box-sizing: border-box;top: 0;bottom: 0;left: 50%;z-index: -1;}#sk-container-id-1 div.sk-parallel-item {display: flex;flex-direction: column;z-index: 1;position: relative;background-color: white;}#sk-container-id-1 div.sk-parallel-item:first-child::after {align-self: flex-end;width: 50%;}#sk-container-id-1 div.sk-parallel-item:last-child::after {align-self: flex-start;width: 50%;}#sk-container-id-1 div.sk-parallel-item:only-child::after {width: 0;}#sk-container-id-1 div.sk-dashed-wrapped {border: 1px dashed gray;margin: 0 0.4em 0.5em 0.4em;box-sizing: border-box;padding-bottom: 0.4em;background-color: white;}#sk-container-id-1 div.sk-label label {font-family: monospace;font-weight: bold;display: inline-block;line-height: 1.2em;}#sk-container-id-1 div.sk-label-container {text-align: center;}#sk-container-id-1 div.sk-container {/* jupyter's `normalize.less` sets `[hidden] { display: none; }` but bootstrap.min.css set `[hidden] { display: none !important; }` so we also need the `!important` here to be able to override the default hidden behavior on the sphinx rendered scikit-learn.org. See: https://github.com/scikit-learn/scikit-learn/issues/21755 */display: inline-block !important;position: relative;}#sk-container-id-1 div.sk-text-repr-fallback {display: none;}</style><div id=\"sk-container-id-1\" class=\"sk-top-container\"><div class=\"sk-text-repr-fallback\"><pre>MinMaxScaler()</pre><b>In a Jupyter environment, please rerun this cell to show the HTML representation or trust the notebook. <br />On GitHub, the HTML representation is unable to render, please try loading this page with nbviewer.org.</b></div><div class=\"sk-container\" hidden><div class=\"sk-item\"><div class=\"sk-estimator sk-toggleable\"><input class=\"sk-toggleable__control sk-hidden--visually\" id=\"sk-estimator-id-1\" type=\"checkbox\" checked><label for=\"sk-estimator-id-1\" class=\"sk-toggleable__label sk-toggleable__label-arrow\">MinMaxScaler</label><div class=\"sk-toggleable__content\"><pre>MinMaxScaler()</pre></div></div></div></div></div>"
      ],
      "text/plain": [
       "MinMaxScaler()"
      ]
     },
     "execution_count": 19,
     "metadata": {},
     "output_type": "execute_result"
    }
   ],
   "source": [
    "scaler_object.fit(X_train)"
   ]
  },
  {
   "cell_type": "code",
   "execution_count": 20,
   "id": "ef9448ad-1fe4-4b42-8bd5-ab4436806861",
   "metadata": {},
   "outputs": [],
   "source": [
    "scaled_X_train = scaler_object.transform(X_train)"
   ]
  },
  {
   "cell_type": "code",
   "execution_count": 21,
   "id": "9fd5939a-20ea-4aec-9a52-902ceb520c08",
   "metadata": {},
   "outputs": [],
   "source": [
    "scaled_X_test = scaler_object.transform(X_test)"
   ]
  },
  {
   "cell_type": "code",
   "execution_count": 22,
   "id": "06958a67-1113-4590-a11d-f95a81152899",
   "metadata": {},
   "outputs": [
    {
     "data": {
      "text/plain": [
       "array([[0.41176471, 0.40909091, 0.55357143, 0.5       ],\n",
       "       [0.97058824, 0.45454545, 0.98214286, 0.83333333],\n",
       "       [0.38235294, 0.45454545, 0.60714286, 0.58333333],\n",
       "       [0.23529412, 0.68181818, 0.05357143, 0.04166667],\n",
       "       [1.        , 0.36363636, 1.        , 0.79166667],\n",
       "       [0.44117647, 0.31818182, 0.53571429, 0.375     ],\n",
       "       [0.26470588, 0.63636364, 0.05357143, 0.04166667],\n",
       "       [0.20588235, 0.68181818, 0.03571429, 0.08333333],\n",
       "       [0.23529412, 0.81818182, 0.14285714, 0.125     ],\n",
       "       [0.20588235, 0.        , 0.42857143, 0.375     ],\n",
       "       [0.58823529, 0.31818182, 0.67857143, 0.70833333],\n",
       "       [0.14705882, 0.63636364, 0.14285714, 0.04166667],\n",
       "       [0.20588235, 0.45454545, 0.08928571, 0.04166667],\n",
       "       [0.23529412, 0.59090909, 0.10714286, 0.16666667],\n",
       "       [0.38235294, 0.31818182, 0.55357143, 0.5       ],\n",
       "       [0.23529412, 0.63636364, 0.07142857, 0.04166667],\n",
       "       [0.41176471, 0.45454545, 0.55357143, 0.45833333],\n",
       "       [1.        , 0.81818182, 1.        , 0.875     ],\n",
       "       [0.08823529, 0.54545455, 0.05357143, 0.04166667],\n",
       "       [0.55882353, 0.40909091, 0.57142857, 0.5       ],\n",
       "       [0.41176471, 0.22727273, 0.69642857, 0.79166667],\n",
       "       [0.35294118, 1.        , 0.05357143, 0.04166667],\n",
       "       [0.5       , 0.45454545, 0.66071429, 0.70833333],\n",
       "       [0.44117647, 0.31818182, 0.71428571, 0.75      ],\n",
       "       [0.5       , 0.09090909, 0.51785714, 0.375     ],\n",
       "       [0.32352941, 0.45454545, 0.60714286, 0.58333333],\n",
       "       [0.55882353, 0.63636364, 0.76785714, 0.91666667],\n",
       "       [0.35294118, 0.13636364, 0.51785714, 0.5       ],\n",
       "       [0.32352941, 0.86363636, 0.10714286, 0.125     ],\n",
       "       [0.20588235, 0.13636364, 0.39285714, 0.375     ],\n",
       "       [0.61764706, 0.31818182, 0.75      , 0.75      ],\n",
       "       [0.20588235, 0.59090909, 0.05357143, 0.04166667],\n",
       "       [0.20588235, 0.54545455, 0.01785714, 0.04166667],\n",
       "       [0.35294118, 0.18181818, 0.48214286, 0.41666667],\n",
       "       [0.70588235, 0.45454545, 0.69642857, 0.66666667],\n",
       "       [0.17647059, 0.5       , 0.07142857, 0.04166667],\n",
       "       [0.44117647, 0.36363636, 0.71428571, 0.95833333],\n",
       "       [0.20588235, 0.63636364, 0.07142857, 0.04166667],\n",
       "       [0.20588235, 0.68181818, 0.08928571, 0.20833333],\n",
       "       [0.47058824, 0.54545455, 0.66071429, 0.70833333],\n",
       "       [0.23529412, 0.22727273, 0.33928571, 0.41666667],\n",
       "       [0.76470588, 0.54545455, 0.82142857, 0.91666667],\n",
       "       [0.5       , 0.31818182, 0.71428571, 0.625     ],\n",
       "       [0.52941176, 0.27272727, 0.80357143, 0.54166667],\n",
       "       [1.        , 0.45454545, 0.89285714, 0.91666667],\n",
       "       [0.35294118, 0.22727273, 0.51785714, 0.5       ],\n",
       "       [0.02941176, 0.40909091, 0.05357143, 0.04166667],\n",
       "       [0.        , 0.45454545, 0.        , 0.        ],\n",
       "       [0.5       , 0.09090909, 0.69642857, 0.58333333],\n",
       "       [0.85294118, 0.54545455, 0.875     , 0.70833333],\n",
       "       [0.08823529, 0.5       , 0.07142857, 0.04166667],\n",
       "       [0.23529412, 0.68181818, 0.05357143, 0.08333333],\n",
       "       [0.02941176, 0.45454545, 0.03571429, 0.04166667],\n",
       "       [0.58823529, 0.22727273, 0.67857143, 0.58333333],\n",
       "       [0.58823529, 0.63636364, 0.80357143, 0.95833333],\n",
       "       [0.08823529, 0.63636364, 0.05357143, 0.08333333],\n",
       "       [0.73529412, 0.45454545, 0.78571429, 0.83333333],\n",
       "       [0.58823529, 0.59090909, 0.875     , 1.        ],\n",
       "       [0.11764706, 0.54545455, 0.03571429, 0.04166667],\n",
       "       [0.52941176, 0.40909091, 0.64285714, 0.54166667],\n",
       "       [0.64705882, 0.36363636, 0.625     , 0.58333333],\n",
       "       [0.55882353, 0.36363636, 0.66071429, 0.70833333],\n",
       "       [0.79411765, 0.54545455, 0.64285714, 0.54166667],\n",
       "       [0.61764706, 0.54545455, 0.75      , 0.91666667],\n",
       "       [0.23529412, 0.81818182, 0.08928571, 0.04166667],\n",
       "       [0.76470588, 0.5       , 0.76785714, 0.83333333],\n",
       "       [0.47058824, 0.45454545, 0.55357143, 0.58333333],\n",
       "       [0.64705882, 0.45454545, 0.73214286, 0.79166667],\n",
       "       [0.41176471, 0.27272727, 0.42857143, 0.375     ],\n",
       "       [0.26470588, 0.31818182, 0.5       , 0.54166667],\n",
       "       [0.52941176, 0.45454545, 0.625     , 0.54166667],\n",
       "       [0.05882353, 0.13636364, 0.03571429, 0.08333333],\n",
       "       [0.67647059, 0.40909091, 0.625     , 0.5       ],\n",
       "       [0.35294118, 0.27272727, 0.58928571, 0.45833333],\n",
       "       [0.29411765, 0.77272727, 0.07142857, 0.04166667],\n",
       "       [0.38235294, 0.45454545, 0.53571429, 0.5       ],\n",
       "       [0.88235294, 0.40909091, 0.92857143, 0.70833333],\n",
       "       [0.70588235, 0.59090909, 0.82142857, 0.83333333],\n",
       "       [0.23529412, 0.77272727, 0.07142857, 0.125     ],\n",
       "       [0.17647059, 0.18181818, 0.39285714, 0.375     ],\n",
       "       [0.70588235, 0.59090909, 0.82142857, 1.        ],\n",
       "       [0.85294118, 0.45454545, 0.83928571, 0.625     ],\n",
       "       [0.17647059, 0.72727273, 0.05357143, 0.        ],\n",
       "       [0.70588235, 0.5       , 0.80357143, 0.95833333],\n",
       "       [0.17647059, 0.45454545, 0.05357143, 0.04166667],\n",
       "       [0.76470588, 0.5       , 0.67857143, 0.58333333],\n",
       "       [0.91176471, 0.36363636, 0.89285714, 0.75      ],\n",
       "       [0.58823529, 0.40909091, 0.80357143, 0.70833333],\n",
       "       [0.41176471, 0.36363636, 0.53571429, 0.5       ],\n",
       "       [0.64705882, 0.45454545, 0.78571429, 0.70833333],\n",
       "       [0.58823529, 0.13636364, 0.58928571, 0.5       ],\n",
       "       [0.61764706, 0.40909091, 0.57142857, 0.5       ],\n",
       "       [0.38235294, 0.36363636, 0.67857143, 0.79166667],\n",
       "       [0.47058824, 0.45454545, 0.71428571, 0.70833333],\n",
       "       [0.32352941, 0.63636364, 0.10714286, 0.04166667],\n",
       "       [0.52941176, 0.36363636, 0.51785714, 0.5       ],\n",
       "       [0.17647059, 0.22727273, 0.60714286, 0.66666667],\n",
       "       [0.44117647, 0.90909091, 0.01785714, 0.04166667],\n",
       "       [0.44117647, 0.27272727, 0.51785714, 0.45833333],\n",
       "       [0.82352941, 0.45454545, 0.85714286, 0.83333333]])"
      ]
     },
     "execution_count": 22,
     "metadata": {},
     "output_type": "execute_result"
    }
   ],
   "source": [
    "scaled_X_train"
   ]
  },
  {
   "cell_type": "code",
   "execution_count": 23,
   "id": "6ef945c3-4214-4cff-8108-5cbfb3fd7828",
   "metadata": {},
   "outputs": [],
   "source": [
    "from keras.models import Sequential\n",
    "from keras.layers import Dense"
   ]
  },
  {
   "cell_type": "code",
   "execution_count": 24,
   "id": "b2bccbb1-cab4-4d69-b938-46d514ed3adc",
   "metadata": {},
   "outputs": [],
   "source": [
    "model = Sequential()\n",
    "model.add(Dense(8,input_dim = 4, activation = \"relu\"))\n",
    "model.add(Dense(8,input_dim = 4, activation = \"relu\"))\n",
    "model.add(Dense(3, activation = \"softmax\")) #[0.2,0.3,0.5]\n",
    "model.compile(loss = \"categorical_crossentropy\",optimizer = \"adam\", metrics = [\"accuracy\"])"
   ]
  },
  {
   "cell_type": "code",
   "execution_count": 25,
   "id": "294d08e9-eb02-483e-95d1-0a01c31ab623",
   "metadata": {},
   "outputs": [
    {
     "name": "stdout",
     "output_type": "stream",
     "text": [
      "Model: \"sequential\"\n",
      "_________________________________________________________________\n",
      " Layer (type)                Output Shape              Param #   \n",
      "=================================================================\n",
      " dense (Dense)               (None, 8)                 40        \n",
      "                                                                 \n",
      " dense_1 (Dense)             (None, 8)                 72        \n",
      "                                                                 \n",
      " dense_2 (Dense)             (None, 3)                 27        \n",
      "                                                                 \n",
      "=================================================================\n",
      "Total params: 139\n",
      "Trainable params: 139\n",
      "Non-trainable params: 0\n",
      "_________________________________________________________________\n"
     ]
    }
   ],
   "source": [
    "model.summary()"
   ]
  },
  {
   "cell_type": "code",
   "execution_count": 26,
   "id": "010544a9-784b-479a-bba2-e90fb507d5df",
   "metadata": {},
   "outputs": [
    {
     "name": "stdout",
     "output_type": "stream",
     "text": [
      "Epoch 1/150\n",
      "4/4 - 3s - loss: 1.1031 - accuracy: 0.3500 - 3s/epoch - 645ms/step\n",
      "Epoch 2/150\n",
      "4/4 - 0s - loss: 1.0910 - accuracy: 0.3500 - 16ms/epoch - 4ms/step\n",
      "Epoch 3/150\n",
      "4/4 - 0s - loss: 1.0805 - accuracy: 0.3500 - 13ms/epoch - 3ms/step\n",
      "Epoch 4/150\n",
      "4/4 - 0s - loss: 1.0696 - accuracy: 0.3500 - 16ms/epoch - 4ms/step\n",
      "Epoch 5/150\n",
      "4/4 - 0s - loss: 1.0604 - accuracy: 0.3500 - 16ms/epoch - 4ms/step\n",
      "Epoch 6/150\n",
      "4/4 - 0s - loss: 1.0518 - accuracy: 0.3500 - 13ms/epoch - 3ms/step\n",
      "Epoch 7/150\n",
      "4/4 - 0s - loss: 1.0421 - accuracy: 0.3500 - 15ms/epoch - 4ms/step\n",
      "Epoch 8/150\n",
      "4/4 - 0s - loss: 1.0328 - accuracy: 0.3500 - 13ms/epoch - 3ms/step\n",
      "Epoch 9/150\n",
      "4/4 - 0s - loss: 1.0235 - accuracy: 0.3500 - 17ms/epoch - 4ms/step\n",
      "Epoch 10/150\n",
      "4/4 - 0s - loss: 1.0146 - accuracy: 0.3500 - 13ms/epoch - 3ms/step\n",
      "Epoch 11/150\n",
      "4/4 - 0s - loss: 1.0061 - accuracy: 0.3500 - 14ms/epoch - 3ms/step\n",
      "Epoch 12/150\n",
      "4/4 - 0s - loss: 0.9969 - accuracy: 0.3500 - 13ms/epoch - 3ms/step\n",
      "Epoch 13/150\n",
      "4/4 - 0s - loss: 0.9886 - accuracy: 0.3500 - 13ms/epoch - 3ms/step\n",
      "Epoch 14/150\n",
      "4/4 - 0s - loss: 0.9799 - accuracy: 0.4100 - 16ms/epoch - 4ms/step\n",
      "Epoch 15/150\n",
      "4/4 - 0s - loss: 0.9717 - accuracy: 0.5900 - 14ms/epoch - 4ms/step\n",
      "Epoch 16/150\n",
      "4/4 - 0s - loss: 0.9636 - accuracy: 0.6100 - 22ms/epoch - 5ms/step\n",
      "Epoch 17/150\n",
      "4/4 - 0s - loss: 0.9555 - accuracy: 0.6100 - 13ms/epoch - 3ms/step\n",
      "Epoch 18/150\n",
      "4/4 - 0s - loss: 0.9475 - accuracy: 0.6200 - 13ms/epoch - 3ms/step\n",
      "Epoch 19/150\n",
      "4/4 - 0s - loss: 0.9397 - accuracy: 0.6300 - 11ms/epoch - 3ms/step\n",
      "Epoch 20/150\n",
      "4/4 - 0s - loss: 0.9322 - accuracy: 0.6400 - 11ms/epoch - 3ms/step\n",
      "Epoch 21/150\n",
      "4/4 - 0s - loss: 0.9241 - accuracy: 0.6300 - 16ms/epoch - 4ms/step\n",
      "Epoch 22/150\n",
      "4/4 - 0s - loss: 0.9158 - accuracy: 0.6300 - 11ms/epoch - 3ms/step\n",
      "Epoch 23/150\n",
      "4/4 - 0s - loss: 0.9076 - accuracy: 0.6300 - 12ms/epoch - 3ms/step\n",
      "Epoch 24/150\n",
      "4/4 - 0s - loss: 0.8988 - accuracy: 0.6400 - 15ms/epoch - 4ms/step\n",
      "Epoch 25/150\n",
      "4/4 - 0s - loss: 0.8896 - accuracy: 0.6200 - 10ms/epoch - 2ms/step\n",
      "Epoch 26/150\n",
      "4/4 - 0s - loss: 0.8809 - accuracy: 0.6400 - 14ms/epoch - 3ms/step\n",
      "Epoch 27/150\n",
      "4/4 - 0s - loss: 0.8715 - accuracy: 0.6200 - 15ms/epoch - 4ms/step\n",
      "Epoch 28/150\n",
      "4/4 - 0s - loss: 0.8623 - accuracy: 0.6300 - 16ms/epoch - 4ms/step\n",
      "Epoch 29/150\n",
      "4/4 - 0s - loss: 0.8533 - accuracy: 0.6500 - 30ms/epoch - 7ms/step\n",
      "Epoch 30/150\n",
      "4/4 - 0s - loss: 0.8444 - accuracy: 0.6600 - 24ms/epoch - 6ms/step\n",
      "Epoch 31/150\n",
      "4/4 - 0s - loss: 0.8351 - accuracy: 0.6200 - 20ms/epoch - 5ms/step\n",
      "Epoch 32/150\n",
      "4/4 - 0s - loss: 0.8257 - accuracy: 0.6200 - 18ms/epoch - 5ms/step\n",
      "Epoch 33/150\n",
      "4/4 - 0s - loss: 0.8166 - accuracy: 0.6400 - 22ms/epoch - 5ms/step\n",
      "Epoch 34/150\n",
      "4/4 - 0s - loss: 0.8080 - accuracy: 0.6600 - 20ms/epoch - 5ms/step\n",
      "Epoch 35/150\n",
      "4/4 - 0s - loss: 0.7995 - accuracy: 0.6700 - 36ms/epoch - 9ms/step\n",
      "Epoch 36/150\n",
      "4/4 - 0s - loss: 0.7913 - accuracy: 0.6800 - 20ms/epoch - 5ms/step\n",
      "Epoch 37/150\n",
      "4/4 - 0s - loss: 0.7819 - accuracy: 0.6800 - 17ms/epoch - 4ms/step\n",
      "Epoch 38/150\n",
      "4/4 - 0s - loss: 0.7733 - accuracy: 0.6300 - 23ms/epoch - 6ms/step\n",
      "Epoch 39/150\n",
      "4/4 - 0s - loss: 0.7637 - accuracy: 0.6800 - 19ms/epoch - 5ms/step\n",
      "Epoch 40/150\n",
      "4/4 - 0s - loss: 0.7548 - accuracy: 0.6500 - 21ms/epoch - 5ms/step\n",
      "Epoch 41/150\n",
      "4/4 - 0s - loss: 0.7466 - accuracy: 0.6500 - 20ms/epoch - 5ms/step\n",
      "Epoch 42/150\n",
      "4/4 - 0s - loss: 0.7379 - accuracy: 0.6500 - 21ms/epoch - 5ms/step\n",
      "Epoch 43/150\n",
      "4/4 - 0s - loss: 0.7301 - accuracy: 0.6500 - 21ms/epoch - 5ms/step\n",
      "Epoch 44/150\n",
      "4/4 - 0s - loss: 0.7209 - accuracy: 0.6500 - 26ms/epoch - 6ms/step\n",
      "Epoch 45/150\n",
      "4/4 - 0s - loss: 0.7132 - accuracy: 0.6500 - 27ms/epoch - 7ms/step\n",
      "Epoch 46/150\n",
      "4/4 - 0s - loss: 0.7051 - accuracy: 0.6500 - 27ms/epoch - 7ms/step\n",
      "Epoch 47/150\n",
      "4/4 - 0s - loss: 0.6971 - accuracy: 0.6500 - 27ms/epoch - 7ms/step\n",
      "Epoch 48/150\n",
      "4/4 - 0s - loss: 0.6893 - accuracy: 0.6500 - 32ms/epoch - 8ms/step\n",
      "Epoch 49/150\n",
      "4/4 - 0s - loss: 0.6817 - accuracy: 0.6500 - 27ms/epoch - 7ms/step\n",
      "Epoch 50/150\n",
      "4/4 - 0s - loss: 0.6745 - accuracy: 0.6500 - 26ms/epoch - 7ms/step\n",
      "Epoch 51/150\n",
      "4/4 - 0s - loss: 0.6669 - accuracy: 0.6500 - 16ms/epoch - 4ms/step\n",
      "Epoch 52/150\n",
      "4/4 - 0s - loss: 0.6597 - accuracy: 0.6500 - 14ms/epoch - 4ms/step\n",
      "Epoch 53/150\n",
      "4/4 - 0s - loss: 0.6527 - accuracy: 0.6500 - 13ms/epoch - 3ms/step\n",
      "Epoch 54/150\n",
      "4/4 - 0s - loss: 0.6461 - accuracy: 0.6500 - 16ms/epoch - 4ms/step\n",
      "Epoch 55/150\n",
      "4/4 - 0s - loss: 0.6394 - accuracy: 0.6500 - 16ms/epoch - 4ms/step\n",
      "Epoch 56/150\n",
      "4/4 - 0s - loss: 0.6329 - accuracy: 0.6500 - 15ms/epoch - 4ms/step\n",
      "Epoch 57/150\n",
      "4/4 - 0s - loss: 0.6271 - accuracy: 0.6500 - 18ms/epoch - 4ms/step\n",
      "Epoch 58/150\n",
      "4/4 - 0s - loss: 0.6209 - accuracy: 0.6500 - 15ms/epoch - 4ms/step\n",
      "Epoch 59/150\n",
      "4/4 - 0s - loss: 0.6145 - accuracy: 0.6500 - 19ms/epoch - 5ms/step\n",
      "Epoch 60/150\n",
      "4/4 - 0s - loss: 0.6083 - accuracy: 0.6500 - 16ms/epoch - 4ms/step\n",
      "Epoch 61/150\n",
      "4/4 - 0s - loss: 0.6027 - accuracy: 0.6500 - 13ms/epoch - 3ms/step\n",
      "Epoch 62/150\n",
      "4/4 - 0s - loss: 0.5972 - accuracy: 0.6500 - 19ms/epoch - 5ms/step\n",
      "Epoch 63/150\n",
      "4/4 - 0s - loss: 0.5922 - accuracy: 0.6500 - 16ms/epoch - 4ms/step\n",
      "Epoch 64/150\n",
      "4/4 - 0s - loss: 0.5873 - accuracy: 0.6500 - 15ms/epoch - 4ms/step\n",
      "Epoch 65/150\n",
      "4/4 - 0s - loss: 0.5826 - accuracy: 0.6500 - 15ms/epoch - 4ms/step\n",
      "Epoch 66/150\n",
      "4/4 - 0s - loss: 0.5777 - accuracy: 0.6500 - 20ms/epoch - 5ms/step\n",
      "Epoch 67/150\n",
      "4/4 - 0s - loss: 0.5728 - accuracy: 0.6500 - 16ms/epoch - 4ms/step\n",
      "Epoch 68/150\n",
      "4/4 - 0s - loss: 0.5684 - accuracy: 0.6500 - 15ms/epoch - 4ms/step\n",
      "Epoch 69/150\n",
      "4/4 - 0s - loss: 0.5642 - accuracy: 0.6500 - 14ms/epoch - 4ms/step\n",
      "Epoch 70/150\n",
      "4/4 - 0s - loss: 0.5602 - accuracy: 0.6500 - 14ms/epoch - 3ms/step\n",
      "Epoch 71/150\n",
      "4/4 - 0s - loss: 0.5561 - accuracy: 0.6500 - 17ms/epoch - 4ms/step\n",
      "Epoch 72/150\n",
      "4/4 - 0s - loss: 0.5522 - accuracy: 0.6500 - 21ms/epoch - 5ms/step\n",
      "Epoch 73/150\n",
      "4/4 - 0s - loss: 0.5491 - accuracy: 0.6500 - 18ms/epoch - 4ms/step\n",
      "Epoch 74/150\n",
      "4/4 - 0s - loss: 0.5444 - accuracy: 0.6500 - 20ms/epoch - 5ms/step\n",
      "Epoch 75/150\n",
      "4/4 - 0s - loss: 0.5406 - accuracy: 0.6500 - 23ms/epoch - 6ms/step\n",
      "Epoch 76/150\n",
      "4/4 - 0s - loss: 0.5369 - accuracy: 0.6500 - 23ms/epoch - 6ms/step\n",
      "Epoch 77/150\n",
      "4/4 - 0s - loss: 0.5337 - accuracy: 0.6600 - 21ms/epoch - 5ms/step\n",
      "Epoch 78/150\n",
      "4/4 - 0s - loss: 0.5299 - accuracy: 0.6800 - 21ms/epoch - 5ms/step\n",
      "Epoch 79/150\n",
      "4/4 - 0s - loss: 0.5267 - accuracy: 0.7000 - 17ms/epoch - 4ms/step\n",
      "Epoch 80/150\n",
      "4/4 - 0s - loss: 0.5234 - accuracy: 0.7300 - 21ms/epoch - 5ms/step\n",
      "Epoch 81/150\n",
      "4/4 - 0s - loss: 0.5210 - accuracy: 0.7500 - 16ms/epoch - 4ms/step\n",
      "Epoch 82/150\n",
      "4/4 - 0s - loss: 0.5182 - accuracy: 0.7700 - 19ms/epoch - 5ms/step\n",
      "Epoch 83/150\n",
      "4/4 - 0s - loss: 0.5149 - accuracy: 0.7700 - 28ms/epoch - 7ms/step\n",
      "Epoch 84/150\n",
      "4/4 - 0s - loss: 0.5115 - accuracy: 0.7800 - 21ms/epoch - 5ms/step\n",
      "Epoch 85/150\n",
      "4/4 - 0s - loss: 0.5081 - accuracy: 0.7700 - 32ms/epoch - 8ms/step\n",
      "Epoch 86/150\n",
      "4/4 - 0s - loss: 0.5049 - accuracy: 0.7500 - 17ms/epoch - 4ms/step\n",
      "Epoch 87/150\n",
      "4/4 - 0s - loss: 0.5016 - accuracy: 0.7400 - 23ms/epoch - 6ms/step\n",
      "Epoch 88/150\n",
      "4/4 - 0s - loss: 0.4987 - accuracy: 0.7300 - 36ms/epoch - 9ms/step\n",
      "Epoch 89/150\n",
      "4/4 - 0s - loss: 0.4957 - accuracy: 0.7000 - 26ms/epoch - 7ms/step\n",
      "Epoch 90/150\n",
      "4/4 - 0s - loss: 0.4923 - accuracy: 0.6600 - 41ms/epoch - 10ms/step\n",
      "Epoch 91/150\n",
      "4/4 - 0s - loss: 0.4906 - accuracy: 0.6600 - 29ms/epoch - 7ms/step\n",
      "Epoch 92/150\n",
      "4/4 - 0s - loss: 0.4892 - accuracy: 0.6500 - 30ms/epoch - 8ms/step\n",
      "Epoch 93/150\n",
      "4/4 - 0s - loss: 0.4892 - accuracy: 0.6500 - 31ms/epoch - 8ms/step\n",
      "Epoch 94/150\n",
      "4/4 - 0s - loss: 0.4875 - accuracy: 0.6500 - 41ms/epoch - 10ms/step\n",
      "Epoch 95/150\n",
      "4/4 - 0s - loss: 0.4852 - accuracy: 0.6500 - 33ms/epoch - 8ms/step\n",
      "Epoch 96/150\n",
      "4/4 - 0s - loss: 0.4831 - accuracy: 0.6500 - 32ms/epoch - 8ms/step\n",
      "Epoch 97/150\n",
      "4/4 - 0s - loss: 0.4797 - accuracy: 0.6600 - 27ms/epoch - 7ms/step\n",
      "Epoch 98/150\n",
      "4/4 - 0s - loss: 0.4753 - accuracy: 0.6600 - 33ms/epoch - 8ms/step\n",
      "Epoch 99/150\n",
      "4/4 - 0s - loss: 0.4725 - accuracy: 0.6700 - 16ms/epoch - 4ms/step\n",
      "Epoch 100/150\n",
      "4/4 - 0s - loss: 0.4711 - accuracy: 0.7200 - 22ms/epoch - 6ms/step\n",
      "Epoch 101/150\n",
      "4/4 - 0s - loss: 0.4678 - accuracy: 0.7800 - 18ms/epoch - 5ms/step\n",
      "Epoch 102/150\n",
      "4/4 - 0s - loss: 0.4663 - accuracy: 0.8000 - 16ms/epoch - 4ms/step\n",
      "Epoch 103/150\n",
      "4/4 - 0s - loss: 0.4645 - accuracy: 0.8500 - 21ms/epoch - 5ms/step\n",
      "Epoch 104/150\n",
      "4/4 - 0s - loss: 0.4630 - accuracy: 0.8800 - 17ms/epoch - 4ms/step\n",
      "Epoch 105/150\n",
      "4/4 - 0s - loss: 0.4608 - accuracy: 0.8700 - 23ms/epoch - 6ms/step\n",
      "Epoch 106/150\n",
      "4/4 - 0s - loss: 0.4583 - accuracy: 0.8400 - 25ms/epoch - 6ms/step\n",
      "Epoch 107/150\n",
      "4/4 - 0s - loss: 0.4560 - accuracy: 0.8400 - 25ms/epoch - 6ms/step\n",
      "Epoch 108/150\n",
      "4/4 - 0s - loss: 0.4539 - accuracy: 0.8400 - 29ms/epoch - 7ms/step\n",
      "Epoch 109/150\n",
      "4/4 - 0s - loss: 0.4514 - accuracy: 0.8300 - 23ms/epoch - 6ms/step\n",
      "Epoch 110/150\n",
      "4/4 - 0s - loss: 0.4494 - accuracy: 0.8300 - 20ms/epoch - 5ms/step\n",
      "Epoch 111/150\n",
      "4/4 - 0s - loss: 0.4474 - accuracy: 0.8300 - 17ms/epoch - 4ms/step\n",
      "Epoch 112/150\n",
      "4/4 - 0s - loss: 0.4457 - accuracy: 0.8400 - 42ms/epoch - 10ms/step\n",
      "Epoch 113/150\n",
      "4/4 - 0s - loss: 0.4438 - accuracy: 0.8400 - 29ms/epoch - 7ms/step\n",
      "Epoch 114/150\n",
      "4/4 - 0s - loss: 0.4416 - accuracy: 0.8400 - 20ms/epoch - 5ms/step\n",
      "Epoch 115/150\n",
      "4/4 - 0s - loss: 0.4398 - accuracy: 0.8300 - 27ms/epoch - 7ms/step\n",
      "Epoch 116/150\n",
      "4/4 - 0s - loss: 0.4380 - accuracy: 0.8300 - 25ms/epoch - 6ms/step\n",
      "Epoch 117/150\n",
      "4/4 - 0s - loss: 0.4361 - accuracy: 0.8400 - 22ms/epoch - 6ms/step\n",
      "Epoch 118/150\n",
      "4/4 - 0s - loss: 0.4344 - accuracy: 0.8500 - 19ms/epoch - 5ms/step\n",
      "Epoch 119/150\n",
      "4/4 - 0s - loss: 0.4328 - accuracy: 0.8600 - 26ms/epoch - 6ms/step\n",
      "Epoch 120/150\n",
      "4/4 - 0s - loss: 0.4307 - accuracy: 0.8600 - 29ms/epoch - 7ms/step\n",
      "Epoch 121/150\n",
      "4/4 - 0s - loss: 0.4293 - accuracy: 0.9000 - 29ms/epoch - 7ms/step\n",
      "Epoch 122/150\n",
      "4/4 - 0s - loss: 0.4277 - accuracy: 0.8600 - 29ms/epoch - 7ms/step\n",
      "Epoch 123/150\n",
      "4/4 - 0s - loss: 0.4249 - accuracy: 0.8500 - 32ms/epoch - 8ms/step\n",
      "Epoch 124/150\n",
      "4/4 - 0s - loss: 0.4231 - accuracy: 0.8600 - 27ms/epoch - 7ms/step\n",
      "Epoch 125/150\n",
      "4/4 - 0s - loss: 0.4213 - accuracy: 0.8400 - 25ms/epoch - 6ms/step\n",
      "Epoch 126/150\n",
      "4/4 - 0s - loss: 0.4196 - accuracy: 0.8400 - 29ms/epoch - 7ms/step\n",
      "Epoch 127/150\n",
      "4/4 - 0s - loss: 0.4179 - accuracy: 0.8400 - 28ms/epoch - 7ms/step\n",
      "Epoch 128/150\n",
      "4/4 - 0s - loss: 0.4159 - accuracy: 0.8500 - 32ms/epoch - 8ms/step\n",
      "Epoch 129/150\n",
      "4/4 - 0s - loss: 0.4140 - accuracy: 0.8900 - 35ms/epoch - 9ms/step\n",
      "Epoch 130/150\n",
      "4/4 - 0s - loss: 0.4122 - accuracy: 0.9100 - 31ms/epoch - 8ms/step\n",
      "Epoch 131/150\n",
      "4/4 - 0s - loss: 0.4105 - accuracy: 0.9200 - 30ms/epoch - 7ms/step\n",
      "Epoch 132/150\n",
      "4/4 - 0s - loss: 0.4088 - accuracy: 0.9200 - 27ms/epoch - 7ms/step\n",
      "Epoch 133/150\n",
      "4/4 - 0s - loss: 0.4068 - accuracy: 0.9200 - 16ms/epoch - 4ms/step\n",
      "Epoch 134/150\n",
      "4/4 - 0s - loss: 0.4046 - accuracy: 0.9100 - 19ms/epoch - 5ms/step\n",
      "Epoch 135/150\n",
      "4/4 - 0s - loss: 0.4032 - accuracy: 0.8900 - 18ms/epoch - 4ms/step\n",
      "Epoch 136/150\n",
      "4/4 - 0s - loss: 0.4011 - accuracy: 0.8800 - 17ms/epoch - 4ms/step\n",
      "Epoch 137/150\n",
      "4/4 - 0s - loss: 0.3992 - accuracy: 0.8900 - 16ms/epoch - 4ms/step\n",
      "Epoch 138/150\n",
      "4/4 - 0s - loss: 0.3974 - accuracy: 0.8900 - 18ms/epoch - 4ms/step\n",
      "Epoch 139/150\n",
      "4/4 - 0s - loss: 0.3961 - accuracy: 0.8700 - 17ms/epoch - 4ms/step\n",
      "Epoch 140/150\n",
      "4/4 - 0s - loss: 0.3943 - accuracy: 0.8700 - 17ms/epoch - 4ms/step\n",
      "Epoch 141/150\n",
      "4/4 - 0s - loss: 0.3921 - accuracy: 0.8800 - 17ms/epoch - 4ms/step\n",
      "Epoch 142/150\n",
      "4/4 - 0s - loss: 0.3899 - accuracy: 0.9000 - 17ms/epoch - 4ms/step\n",
      "Epoch 143/150\n",
      "4/4 - 0s - loss: 0.3893 - accuracy: 0.9600 - 17ms/epoch - 4ms/step\n",
      "Epoch 144/150\n",
      "4/4 - 0s - loss: 0.3891 - accuracy: 0.9600 - 15ms/epoch - 4ms/step\n",
      "Epoch 145/150\n",
      "4/4 - 0s - loss: 0.3879 - accuracy: 0.9600 - 16ms/epoch - 4ms/step\n",
      "Epoch 146/150\n",
      "4/4 - 0s - loss: 0.3862 - accuracy: 0.9600 - 18ms/epoch - 4ms/step\n",
      "Epoch 147/150\n",
      "4/4 - 0s - loss: 0.3837 - accuracy: 0.9600 - 17ms/epoch - 4ms/step\n",
      "Epoch 148/150\n",
      "4/4 - 0s - loss: 0.3816 - accuracy: 0.9600 - 16ms/epoch - 4ms/step\n",
      "Epoch 149/150\n",
      "4/4 - 0s - loss: 0.3793 - accuracy: 0.9700 - 15ms/epoch - 4ms/step\n",
      "Epoch 150/150\n",
      "4/4 - 0s - loss: 0.3769 - accuracy: 0.9600 - 15ms/epoch - 4ms/step\n"
     ]
    },
    {
     "data": {
      "text/plain": [
       "<keras.callbacks.History at 0x1aaef4a72b0>"
      ]
     },
     "execution_count": 26,
     "metadata": {},
     "output_type": "execute_result"
    }
   ],
   "source": [
    "model.fit(scaled_X_train,y_train,epochs = 150,verbose = 2)"
   ]
  },
  {
   "cell_type": "code",
   "execution_count": 27,
   "id": "2cfd40b7-0995-43d1-ab4d-980a726f3391",
   "metadata": {},
   "outputs": [
    {
     "name": "stdout",
     "output_type": "stream",
     "text": [
      "2/2 [==============================] - 0s 4ms/step\n"
     ]
    },
    {
     "data": {
      "text/plain": [
       "array([1, 0, 2, 1, 1, 0, 1, 2, 2, 1, 2, 0, 0, 0, 0, 1, 2, 1, 1, 2, 0, 2,\n",
       "       0, 2, 2, 2, 2, 2, 0, 0, 0, 0, 1, 0, 0, 2, 1, 0, 0, 0, 2, 1, 1, 0,\n",
       "       0, 1, 2, 2, 1, 2], dtype=int64)"
      ]
     },
     "execution_count": 27,
     "metadata": {},
     "output_type": "execute_result"
    }
   ],
   "source": [
    "np.argmax(model.predict(scaled_X_test), axis=-1)"
   ]
  },
  {
   "cell_type": "code",
   "execution_count": 28,
   "id": "e99b3a88-b31a-4891-9a07-4b7f82915980",
   "metadata": {},
   "outputs": [
    {
     "name": "stdout",
     "output_type": "stream",
     "text": [
      "2/2 [==============================] - 0s 12ms/step\n"
     ]
    }
   ],
   "source": [
    "predictions = np.argmax(model.predict(scaled_X_test), axis=-1)"
   ]
  },
  {
   "cell_type": "code",
   "execution_count": 29,
   "id": "13bf1e87-4834-44c5-8032-4e8b01b79dc1",
   "metadata": {},
   "outputs": [
    {
     "data": {
      "text/plain": [
       "array([1, 0, 2, 1, 1, 0, 1, 2, 1, 1, 2, 0, 0, 0, 0, 1, 2, 1, 1, 2, 0, 2,\n",
       "       0, 2, 2, 2, 2, 2, 0, 0, 0, 0, 1, 0, 0, 2, 1, 0, 0, 0, 2, 1, 1, 0,\n",
       "       0, 1, 2, 2, 1, 2], dtype=int64)"
      ]
     },
     "execution_count": 29,
     "metadata": {},
     "output_type": "execute_result"
    }
   ],
   "source": [
    "y_test.argmax(axis = 1)"
   ]
  },
  {
   "cell_type": "code",
   "execution_count": 30,
   "id": "9d790345-6835-483a-89cb-a4577321cfe0",
   "metadata": {},
   "outputs": [],
   "source": [
    "from sklearn.metrics import confusion_matrix,classification_report, accuracy_score"
   ]
  },
  {
   "cell_type": "code",
   "execution_count": 31,
   "id": "d3c3d020-cf0a-46d8-9fc7-c63e5f694497",
   "metadata": {},
   "outputs": [
    {
     "data": {
      "text/plain": [
       "array([[19,  0,  0],\n",
       "       [ 0, 14,  1],\n",
       "       [ 0,  0, 16]], dtype=int64)"
      ]
     },
     "execution_count": 31,
     "metadata": {},
     "output_type": "execute_result"
    }
   ],
   "source": [
    "confusion_matrix(y_test.argmax(axis =1),predictions)"
   ]
  },
  {
   "cell_type": "code",
   "execution_count": 32,
   "id": "f351c5f9-066f-4a8a-9924-02f1730cd8e9",
   "metadata": {},
   "outputs": [
    {
     "name": "stdout",
     "output_type": "stream",
     "text": [
      "              precision    recall  f1-score   support\n",
      "\n",
      "           0       1.00      1.00      1.00        19\n",
      "           1       1.00      0.93      0.97        15\n",
      "           2       0.94      1.00      0.97        16\n",
      "\n",
      "    accuracy                           0.98        50\n",
      "   macro avg       0.98      0.98      0.98        50\n",
      "weighted avg       0.98      0.98      0.98        50\n",
      "\n"
     ]
    }
   ],
   "source": [
    "print(classification_report(y_test.argmax(axis =1),predictions))"
   ]
  },
  {
   "cell_type": "code",
   "execution_count": 33,
   "id": "2d702d89-a51a-4206-949d-a41d185905e6",
   "metadata": {},
   "outputs": [
    {
     "name": "stdout",
     "output_type": "stream",
     "text": [
      "0.98\n"
     ]
    }
   ],
   "source": [
    "print(accuracy_score(y_test.argmax(axis =1),predictions))"
   ]
  },
  {
   "cell_type": "code",
   "execution_count": 34,
   "id": "b98ad56f-9198-469f-bde2-f1801e750abc",
   "metadata": {},
   "outputs": [],
   "source": [
    "model.save(\"myfirstmodel.h5\")"
   ]
  },
  {
   "cell_type": "code",
   "execution_count": 35,
   "id": "6effd5af-ab3f-44ac-bc31-b279416b79e5",
   "metadata": {},
   "outputs": [],
   "source": [
    "from keras.models import load_model"
   ]
  },
  {
   "cell_type": "code",
   "execution_count": 36,
   "id": "3b15b81b-3d11-4d7d-821f-052dad40a505",
   "metadata": {},
   "outputs": [],
   "source": [
    "new_model = load_model(\"myfirstmodel.h5\")"
   ]
  },
  {
   "cell_type": "code",
   "execution_count": 37,
   "id": "4bf9572b-30d0-4ecd-a17a-9220df806dfa",
   "metadata": {},
   "outputs": [
    {
     "name": "stdout",
     "output_type": "stream",
     "text": [
      "2/2 [==============================] - 0s 5ms/step\n"
     ]
    },
    {
     "data": {
      "text/plain": [
       "array([1, 0, 2, 1, 1, 0, 1, 2, 2, 1, 2, 0, 0, 0, 0, 1, 2, 1, 1, 2, 0, 2,\n",
       "       0, 2, 2, 2, 2, 2, 0, 0, 0, 0, 1, 0, 0, 2, 1, 0, 0, 0, 2, 1, 1, 0,\n",
       "       0, 1, 2, 2, 1, 2], dtype=int64)"
      ]
     },
     "execution_count": 37,
     "metadata": {},
     "output_type": "execute_result"
    }
   ],
   "source": [
    "np.argmax(new_model.predict(scaled_X_test), axis=-1)"
   ]
  },
  {
   "cell_type": "code",
   "execution_count": null,
   "id": "8c6d58dd-6a2c-471d-b278-acfe94665ee5",
   "metadata": {},
   "outputs": [],
   "source": []
  }
 ],
 "metadata": {
  "kernelspec": {
   "display_name": "Python 3 (ipykernel)",
   "language": "python",
   "name": "python3"
  },
  "language_info": {
   "codemirror_mode": {
    "name": "ipython",
    "version": 3
   },
   "file_extension": ".py",
   "mimetype": "text/x-python",
   "name": "python",
   "nbconvert_exporter": "python",
   "pygments_lexer": "ipython3",
   "version": "3.10.9"
  },
  "widgets": {
   "application/vnd.jupyter.widget-state+json": {
    "state": {},
    "version_major": 2,
    "version_minor": 0
   }
  }
 },
 "nbformat": 4,
 "nbformat_minor": 5
}
