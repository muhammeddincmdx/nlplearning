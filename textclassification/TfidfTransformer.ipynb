{
 "cells": [
  {
   "cell_type": "markdown",
   "id": "591e7c02-e5e8-4456-9f69-80b8cb692964",
   "metadata": {},
   "source": [
    "TfidfTransformer, metin madenciliği ve doğal dil işleme (NLP) gibi alanlarda yaygın olarak kullanılan bir özellik mühendisliği aracıdır. \"Tf-Idf\" kısaltması, \"Term Frequency-Inverse Document Frequency\" teriminin açılımıdır. Tf-Idf, metin verilerindeki kelimelerin önemini değerlendirmek için kullanılan bir istatistiksel yöntemdir. Tf-IdfTransformer, metin verilerini Tf-Idf skorlarına dayalı sayısal özelliklere dönüştürmek için kullanılır.\n",
    "\n",
    "Tf-IdfTransformer, aşağıdaki nedenlerle kullanılır:\n",
    "\n",
    "    Kelimenin Belge İçindeki Önemini Belirleme: Tf-Idf, bir kelimenin bir belgede ne kadar önemli olduğunu değerlendirir. Özellikle belirli bir belgede sıkça geçen kelimeler, o belge için önemli kabul edilirken, genel olarak çok yaygın olan kelimelerin önemi azaltılır.\n",
    "\n",
    "    Belge Benzersizliğini Ölçme: Tf-Idf, bir kelimenin belgenin içeriğinde ne kadar benzersiz olduğunu ölçer. Eğer bir kelime bir belgede sıkça geçiyorsa ancak diğer belgelerde nadir görülüyorsa, bu kelime o belgeyi diğerlerinden ayıran bir özellik olabilir.\n",
    "\n",
    "    Stop Words'leri Azaltma: Tf-Idf, yaygın stop words gibi anlamsız kelimelerin önemini azaltabilir. Bu, modelin daha anlamlı özelliklere odaklanmasına yardımcı olabilir.\n",
    "\n",
    "İşte bir Tf-IdfTransformer kullanım örneği:\n",
    "\n",
    "python\n",
    "\n",
    "from sklearn.feature_extraction.text import TfidfTransformer\n",
    "from sklearn.feature_extraction.text import CountVectorizer\n",
    "\n",
    "# Örnek metin belgeleri\n",
    "documents = [\n",
    "    \"Bu bir örnek cümledir.\",\n",
    "    \"Metin madenciliği çok ilginçtir.\",\n",
    "    \"Python programlama dili kullanarak metin işleme yapabilirsiniz.\"\n",
    "]\n",
    "\n",
    "# CountVectorizer kullanarak metin belgelerini sayısal özelliklere dönüştürün\n",
    "vectorizer = CountVectorizer()\n",
    "X = vectorizer.fit_transform(documents)\n",
    "\n",
    "# Tf-IdfTransformer'ı kullanarak Tf-Idf skorlarını hesaplayın\n",
    "tfidf_transformer = TfidfTransformer()\n",
    "X_tfidf = tfidf_transformer.fit_transform(X)\n",
    "\n",
    "# Tf-Idf skorlarını görüntüleyin\n",
    "print(X_tfidf.toarray())\n",
    "\n",
    "Bu örnekte, önce metin belgelerini CountVectorizer ile sayısal özelliklere dönüştürdük ve ardından Tf-IdfTransformer ile Tf-Idf skorlarını hesapladık. X_tfidf.toarray() ifadesi, Tf-Idf skorlarını içeren sayısal bir matrisi görüntüler.\n",
    "\n",
    "Tf-IdfTransformer, metin madenciliği, metin sınıflandırma, duygusal analiz ve metin madenciliği gibi birçok NLP görevinde kullanılır ve metin verilerinin işlenmesini ve özellik mühendisliği yapılmasını kolaylaştırır.\n"
   ]
  },
  {
   "cell_type": "code",
   "execution_count": 1,
   "id": "d27beaec-6383-47fa-a6f3-4ecc4fc5340a",
   "metadata": {},
   "outputs": [
    {
     "name": "stdout",
     "output_type": "stream",
     "text": [
      "[[0.5        0.5        0.5        0.         0.         0.\n",
      "  0.         0.         0.         0.         0.         0.\n",
      "  0.         0.5       ]\n",
      " [0.         0.         0.         0.         0.52863461 0.\n",
      "  0.         0.52863461 0.40204024 0.         0.         0.\n",
      "  0.52863461 0.        ]\n",
      " [0.         0.         0.         0.38988801 0.         0.38988801\n",
      "  0.38988801 0.         0.29651988 0.38988801 0.38988801 0.38988801\n",
      "  0.         0.        ]]\n"
     ]
    }
   ],
   "source": [
    "from sklearn.feature_extraction.text import TfidfTransformer\n",
    "from sklearn.feature_extraction.text import CountVectorizer\n",
    "\n",
    "# Örnek metin belgeleri\n",
    "documents = [\n",
    "    \"Bu bir örnek cümledir.\",\n",
    "    \"Metin madenciliği çok ilginçtir.\",\n",
    "    \"Python programlama dili kullanarak metin işleme yapabilirsiniz.\"\n",
    "]\n",
    "\n",
    "# CountVectorizer kullanarak metin belgelerini sayısal özelliklere dönüştürün\n",
    "vectorizer = CountVectorizer()\n",
    "X = vectorizer.fit_transform(documents)\n",
    "\n",
    "# Tf-IdfTransformer'ı kullanarak Tf-Idf skorlarını hesaplayın\n",
    "tfidf_transformer = TfidfTransformer()\n",
    "X_tfidf = tfidf_transformer.fit_transform(X)\n",
    "\n",
    "# Tf-Idf skorlarını görüntüleyin\n",
    "print(X_tfidf.toarray())\n"
   ]
  },
  {
   "cell_type": "markdown",
   "id": "297fedf4-486b-46e9-85a0-9be5dbbaabdd",
   "metadata": {},
   "source": [
    "Bu örnekte, önce metin belgelerini CountVectorizer ile sayısal özelliklere dönüştürdük ve ardından Tf-IdfTransformer ile Tf-Idf skorlarını hesapladık. X_tfidf.toarray() ifadesi, Tf-Idf skorlarını içeren sayısal bir matrisi görüntüler.\n",
    "\n",
    "Tf-IdfTransformer, metin madenciliği, metin sınıflandırma, duygusal analiz ve metin madenciliği gibi birçok NLP görevinde kullanılır ve metin verilerinin işlenmesini ve özellik mühendisliği yapılmasını kolaylaştırır."
   ]
  },
  {
   "cell_type": "code",
   "execution_count": null,
   "id": "8ad57081-7293-43e0-833b-49ccba4b2007",
   "metadata": {},
   "outputs": [],
   "source": []
  }
 ],
 "metadata": {
  "kernelspec": {
   "display_name": "Python 3 (ipykernel)",
   "language": "python",
   "name": "python3"
  },
  "language_info": {
   "codemirror_mode": {
    "name": "ipython",
    "version": 3
   },
   "file_extension": ".py",
   "mimetype": "text/x-python",
   "name": "python",
   "nbconvert_exporter": "python",
   "pygments_lexer": "ipython3",
   "version": "3.10.9"
  },
  "widgets": {
   "application/vnd.jupyter.widget-state+json": {
    "state": {},
    "version_major": 2,
    "version_minor": 0
   }
  }
 },
 "nbformat": 4,
 "nbformat_minor": 5
}
