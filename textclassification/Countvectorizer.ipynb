{
 "cells": [
  {
   "cell_type": "markdown",
   "id": "55cc8294-8df4-4ac9-b8b4-6bcd116e62e2",
   "metadata": {},
   "source": [
    "CountVectorizer, metin verilerini sayısal özelliklere dönüştürmek için kullanılan bir Python kütüphanesi olan Scikit-learn içindeki bir sınıftır. Bu, metin madenciliği ve doğal dil işleme (NLP) gibi alanlarda çok yaygın olarak kullanılan bir işlemdir. CountVectorizer, metin belgelerini kelime sayılarına dayalı bir vektör temsiline dönüştürmek için kullanılır.\n",
    "\n",
    "CountVectorizer, aşağıdaki nedenlerle kullanılır:\n",
    "\n",
    "    Makine Öğrenimi Modellerine Giriş Verisi Hazırlama: CountVectorizer, metin belgelerini sayısal verilere dönüştürerek, bu metinleri makine öğrenimi algoritmalarına giriş olarak verebilirsiniz. Çoğu makine öğrenimi algoritması, sayısal verilerle çalışır, bu nedenle metin verilerini sayısal özelliklere dönüştürmek önemlidir.\n",
    "\n",
    "    Kelime Sıklığının Hesaplanması: CountVectorizer, her belgedeki her kelimenin belgedeki sıklığını hesaplar. Bu, metin verilerinin içerdiği bilgileri özetlemek ve bu bilgileri sayısal olarak temsil etmek için kullanışlıdır.\n",
    "\n",
    "    Kelime Özelliklerinin Çıkarılması: CountVectorizer, metin belgelerindeki kelime özelliklerini çıkarır ve her bir kelimenin bir sütununu temsil eden bir matris oluşturur. Bu matris, her belgenin hangi kelimeleri içerdiğini sayısal olarak gösterir."
   ]
  },
  {
   "cell_type": "code",
   "execution_count": 1,
   "id": "cceb2f8e-cc98-41c6-bc66-0ad10a063e5f",
   "metadata": {},
   "outputs": [
    {
     "name": "stdout",
     "output_type": "stream",
     "text": [
      "[[1 1 1 0 0 0 0 0 0 0 0 0 0 1]\n",
      " [0 0 0 0 1 0 0 1 1 0 0 0 1 0]\n",
      " [0 0 0 1 0 1 1 0 1 1 1 1 0 0]]\n",
      "['bir' 'bu' 'cümledir' 'dili' 'ilginçtir' 'işleme' 'kullanarak'\n",
      " 'madenciliği' 'metin' 'programlama' 'python' 'yapabilirsiniz' 'çok'\n",
      " 'örnek']\n"
     ]
    }
   ],
   "source": [
    "from sklearn.feature_extraction.text import CountVectorizer\n",
    "\n",
    "# Örnek metin belgeleri\n",
    "documents = [\n",
    "    \"Bu bir örnek cümledir.\",\n",
    "    \"Metin madenciliği çok ilginçtir.\",\n",
    "    \"Python programlama dili kullanarak metin işleme yapabilirsiniz.\"\n",
    "]\n",
    "\n",
    "# CountVectorizer'ı oluşturun\n",
    "vectorizer = CountVectorizer()\n",
    "\n",
    "# Metin belgelerini vektörlere dönüştürün\n",
    "X = vectorizer.fit_transform(documents)\n",
    "\n",
    "# Vektör matrisini görüntüleyin\n",
    "print(X.toarray())\n",
    "\n",
    "# Kelime indekslerini görüntüleyin\n",
    "print(vectorizer.get_feature_names_out())\n"
   ]
  },
  {
   "cell_type": "code",
   "execution_count": null,
   "id": "ca9d64cd-6d51-4a8f-a047-8cdea344f463",
   "metadata": {},
   "outputs": [],
   "source": []
  }
 ],
 "metadata": {
  "kernelspec": {
   "display_name": "Python 3 (ipykernel)",
   "language": "python",
   "name": "python3"
  },
  "language_info": {
   "codemirror_mode": {
    "name": "ipython",
    "version": 3
   },
   "file_extension": ".py",
   "mimetype": "text/x-python",
   "name": "python",
   "nbconvert_exporter": "python",
   "pygments_lexer": "ipython3",
   "version": "3.10.9"
  },
  "widgets": {
   "application/vnd.jupyter.widget-state+json": {
    "state": {},
    "version_major": 2,
    "version_minor": 0
   }
  }
 },
 "nbformat": 4,
 "nbformat_minor": 5
}
