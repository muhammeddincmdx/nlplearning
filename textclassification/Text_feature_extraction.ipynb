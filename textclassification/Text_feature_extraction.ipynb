{
 "cells": [
  {
   "cell_type": "markdown",
   "id": "e991e453-5cff-49b0-9c76-0d200330bbae",
   "metadata": {},
   "source": [
    "## Count Vectorization"
   ]
  },
  {
   "cell_type": "code",
   "execution_count": 1,
   "id": "7f414d58-27c9-430a-8eb8-72693c63c72e",
   "metadata": {},
   "outputs": [],
   "source": [
    "messages = [\"Hey, lets go to the game today!\",\n",
    "           \"Call your sister.\",\n",
    "           \"Want to go walk your dogs?\"]\n"
   ]
  },
  {
   "cell_type": "code",
   "execution_count": 2,
   "id": "6d656f85-7719-4632-a70c-16a2d60eadb7",
   "metadata": {},
   "outputs": [],
   "source": [
    "from sklearn.feature_extraction.text import CountVectorizer\n",
    "vect = CountVectorizer()"
   ]
  },
  {
   "cell_type": "code",
   "execution_count": 3,
   "id": "b552ba6d-4de4-4612-88ca-623290378398",
   "metadata": {},
   "outputs": [
    {
     "data": {
      "text/plain": [
       "array(['call', 'dogs', 'game', 'go', 'hey', 'lets', 'sister', 'the', 'to',\n",
       "       'today', 'walk', 'want', 'your'], dtype=object)"
      ]
     },
     "execution_count": 3,
     "metadata": {},
     "output_type": "execute_result"
    }
   ],
   "source": [
    "# count unique words\n",
    "vect.fit_transform(messages)\n",
    "feature_names = vect.get_feature_names_out()\n",
    "feature_names"
   ]
  },
  {
   "cell_type": "code",
   "execution_count": null,
   "id": "5405fcfa-4f36-40c6-b704-f1773ab71278",
   "metadata": {},
   "outputs": [],
   "source": []
  }
 ],
 "metadata": {
  "kernelspec": {
   "display_name": "Python 3 (ipykernel)",
   "language": "python",
   "name": "python3"
  },
  "language_info": {
   "codemirror_mode": {
    "name": "ipython",
    "version": 3
   },
   "file_extension": ".py",
   "mimetype": "text/x-python",
   "name": "python",
   "nbconvert_exporter": "python",
   "pygments_lexer": "ipython3",
   "version": "3.10.9"
  },
  "widgets": {
   "application/vnd.jupyter.widget-state+json": {
    "state": {},
    "version_major": 2,
    "version_minor": 0
   }
  }
 },
 "nbformat": 4,
 "nbformat_minor": 5
}
